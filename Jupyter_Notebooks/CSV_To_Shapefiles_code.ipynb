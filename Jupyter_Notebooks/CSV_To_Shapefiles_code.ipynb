{
  "nbformat": 4,
  "nbformat_minor": 0,
  "metadata": {
    "colab": {
      "name": "CSV To Shapefiles code",
      "provenance": [],
      "collapsed_sections": [],
      "machine_shape": "hm"
    },
    "kernelspec": {
      "display_name": "Python 3",
      "name": "python3"
    }
  },
  "cells": [
    {
      "cell_type": "markdown",
      "metadata": {
        "id": "7yMfXl0VYUdh"
      },
      "source": [
        "#DeepForest-Pytorch Training Walkthrough(CPU/GPU)\n",
        "  - For GPU implementation.\n",
        "      1. Select **Runtime** > Change **runtime type** and Select GPU as Hardware accelerator."
      ]
    },
    {
      "cell_type": "code",
      "metadata": {
        "id": "PLoNIabP8yuV",
        "colab": {
          "base_uri": "https://localhost:8080/"
        },
        "outputId": "8f777498-ca02-480e-ce76-5f448dd81e10"
      },
      "source": [
        "#install the package\n",
        "! pip install deepforest"
      ],
      "execution_count": null,
      "outputs": [
        {
          "output_type": "stream",
          "text": [
            "Collecting deepforest\n",
            "  Downloading deepforest-1.1.0-py3-none-any.whl (20.0 MB)\n",
            "\u001b[K     |████████████████████████████████| 20.0 MB 142 kB/s \n",
            "\u001b[?25hRequirement already satisfied: numpy in /usr/local/lib/python3.7/dist-packages (from deepforest) (1.19.5)\n",
            "Requirement already satisfied: matplotlib in /usr/local/lib/python3.7/dist-packages (from deepforest) (3.2.2)\n",
            "Collecting rtree\n",
            "  Downloading Rtree-0.9.7-cp37-cp37m-manylinux2010_x86_64.whl (994 kB)\n",
            "\u001b[K     |████████████████████████████████| 994 kB 41.2 MB/s \n",
            "\u001b[?25hCollecting scipy>1.5\n",
            "  Downloading scipy-1.7.1-cp37-cp37m-manylinux_2_5_x86_64.manylinux1_x86_64.whl (28.5 MB)\n",
            "\u001b[K     |████████████████████████████████| 28.5 MB 45 kB/s \n",
            "\u001b[?25hCollecting pytorch-lightning\n",
            "  Downloading pytorch_lightning-1.4.1-py3-none-any.whl (915 kB)\n",
            "\u001b[K     |████████████████████████████████| 915 kB 52.2 MB/s \n",
            "\u001b[?25hRequirement already satisfied: tqdm in /usr/local/lib/python3.7/dist-packages (from deepforest) (4.41.1)\n",
            "Requirement already satisfied: torch in /usr/local/lib/python3.7/dist-packages (from deepforest) (1.9.0+cu102)\n",
            "Collecting slidingwindow\n",
            "  Downloading slidingwindow-0.0.14-py3-none-any.whl (9.0 kB)\n",
            "Collecting rasterio\n",
            "  Downloading rasterio-1.2.6-cp37-cp37m-manylinux1_x86_64.whl (19.3 MB)\n",
            "\u001b[K     |████████████████████████████████| 19.3 MB 66 kB/s \n",
            "\u001b[?25hRequirement already satisfied: Pillow>6.2.0 in /usr/local/lib/python3.7/dist-packages (from deepforest) (7.1.2)\n",
            "Collecting xmltodict\n",
            "  Downloading xmltodict-0.12.0-py2.py3-none-any.whl (9.2 kB)\n",
            "Collecting geopandas\n",
            "  Downloading geopandas-0.9.0-py2.py3-none-any.whl (994 kB)\n",
            "\u001b[K     |████████████████████████████████| 994 kB 38.0 MB/s \n",
            "\u001b[?25hRequirement already satisfied: six in /usr/local/lib/python3.7/dist-packages (from deepforest) (1.15.0)\n",
            "Requirement already satisfied: pandas in /usr/local/lib/python3.7/dist-packages (from deepforest) (1.1.5)\n",
            "Collecting imagecodecs\n",
            "  Downloading imagecodecs-2021.7.30-cp37-cp37m-manylinux_2_17_x86_64.manylinux2014_x86_64.whl (29.6 MB)\n",
            "\u001b[K     |████████████████████████████████| 29.6 MB 25 kB/s \n",
            "\u001b[?25hRequirement already satisfied: progressbar2 in /usr/local/lib/python3.7/dist-packages (from deepforest) (3.38.0)\n",
            "Requirement already satisfied: albumentations in /usr/local/lib/python3.7/dist-packages (from deepforest) (0.1.12)\n",
            "Requirement already satisfied: torchvision>0.9.0 in /usr/local/lib/python3.7/dist-packages (from deepforest) (0.10.0+cu102)\n",
            "Requirement already satisfied: typing-extensions in /usr/local/lib/python3.7/dist-packages (from torch->deepforest) (3.7.4.3)\n",
            "Requirement already satisfied: opencv-python in /usr/local/lib/python3.7/dist-packages (from albumentations->deepforest) (4.1.2.30)\n",
            "Collecting imgaug<0.2.7,>=0.2.5\n",
            "  Downloading imgaug-0.2.6.tar.gz (631 kB)\n",
            "\u001b[K     |████████████████████████████████| 631 kB 39.0 MB/s \n",
            "\u001b[?25hRequirement already satisfied: scikit-image>=0.11.0 in /usr/local/lib/python3.7/dist-packages (from imgaug<0.2.7,>=0.2.5->albumentations->deepforest) (0.16.2)\n",
            "Requirement already satisfied: PyWavelets>=0.4.0 in /usr/local/lib/python3.7/dist-packages (from scikit-image>=0.11.0->imgaug<0.2.7,>=0.2.5->albumentations->deepforest) (1.1.1)\n",
            "Requirement already satisfied: imageio>=2.3.0 in /usr/local/lib/python3.7/dist-packages (from scikit-image>=0.11.0->imgaug<0.2.7,>=0.2.5->albumentations->deepforest) (2.4.1)\n",
            "Requirement already satisfied: networkx>=2.0 in /usr/local/lib/python3.7/dist-packages (from scikit-image>=0.11.0->imgaug<0.2.7,>=0.2.5->albumentations->deepforest) (2.5.1)\n",
            "Requirement already satisfied: python-dateutil>=2.1 in /usr/local/lib/python3.7/dist-packages (from matplotlib->deepforest) (2.8.1)\n",
            "Requirement already satisfied: pyparsing!=2.0.4,!=2.1.2,!=2.1.6,>=2.0.1 in /usr/local/lib/python3.7/dist-packages (from matplotlib->deepforest) (2.4.7)\n",
            "Requirement already satisfied: cycler>=0.10 in /usr/local/lib/python3.7/dist-packages (from matplotlib->deepforest) (0.10.0)\n",
            "Requirement already satisfied: kiwisolver>=1.0.1 in /usr/local/lib/python3.7/dist-packages (from matplotlib->deepforest) (1.3.1)\n",
            "Requirement already satisfied: decorator<5,>=4.3 in /usr/local/lib/python3.7/dist-packages (from networkx>=2.0->scikit-image>=0.11.0->imgaug<0.2.7,>=0.2.5->albumentations->deepforest) (4.4.2)\n",
            "Collecting pyproj>=2.2.0\n",
            "  Downloading pyproj-3.1.0-cp37-cp37m-manylinux2010_x86_64.whl (6.6 MB)\n",
            "\u001b[K     |████████████████████████████████| 6.6 MB 30.9 MB/s \n",
            "\u001b[?25hRequirement already satisfied: shapely>=1.6 in /usr/local/lib/python3.7/dist-packages (from geopandas->deepforest) (1.7.1)\n",
            "Collecting fiona>=1.8\n",
            "  Downloading Fiona-1.8.20-cp37-cp37m-manylinux1_x86_64.whl (15.4 MB)\n",
            "\u001b[K     |████████████████████████████████| 15.4 MB 18 kB/s \n",
            "\u001b[?25hRequirement already satisfied: certifi in /usr/local/lib/python3.7/dist-packages (from fiona>=1.8->geopandas->deepforest) (2021.5.30)\n",
            "Collecting cligj>=0.5\n",
            "  Downloading cligj-0.7.2-py3-none-any.whl (7.1 kB)\n",
            "Requirement already satisfied: attrs>=17 in /usr/local/lib/python3.7/dist-packages (from fiona>=1.8->geopandas->deepforest) (21.2.0)\n",
            "Collecting munch\n",
            "  Downloading munch-2.5.0-py2.py3-none-any.whl (10 kB)\n",
            "Requirement already satisfied: click>=4.0 in /usr/local/lib/python3.7/dist-packages (from fiona>=1.8->geopandas->deepforest) (7.1.2)\n",
            "Collecting click-plugins>=1.0\n",
            "  Downloading click_plugins-1.1.1-py2.py3-none-any.whl (7.5 kB)\n",
            "Requirement already satisfied: setuptools in /usr/local/lib/python3.7/dist-packages (from fiona>=1.8->geopandas->deepforest) (57.2.0)\n",
            "Requirement already satisfied: pytz>=2017.2 in /usr/local/lib/python3.7/dist-packages (from pandas->deepforest) (2018.9)\n",
            "Requirement already satisfied: python-utils>=2.3.0 in /usr/local/lib/python3.7/dist-packages (from progressbar2->deepforest) (2.5.6)\n",
            "Collecting pyDeprecate==0.3.1\n",
            "  Downloading pyDeprecate-0.3.1-py3-none-any.whl (10 kB)\n",
            "Collecting fsspec[http]!=2021.06.0,>=2021.05.0\n",
            "  Downloading fsspec-2021.7.0-py3-none-any.whl (118 kB)\n",
            "\u001b[K     |████████████████████████████████| 118 kB 58.9 MB/s \n",
            "\u001b[?25hRequirement already satisfied: packaging>=17.0 in /usr/local/lib/python3.7/dist-packages (from pytorch-lightning->deepforest) (21.0)\n",
            "Collecting PyYAML>=5.1\n",
            "  Downloading PyYAML-5.4.1-cp37-cp37m-manylinux1_x86_64.whl (636 kB)\n",
            "\u001b[K     |████████████████████████████████| 636 kB 46.9 MB/s \n",
            "\u001b[?25hCollecting torchmetrics>=0.4.0\n",
            "  Downloading torchmetrics-0.4.1-py3-none-any.whl (234 kB)\n",
            "\u001b[K     |████████████████████████████████| 234 kB 62.0 MB/s \n",
            "\u001b[?25hCollecting tensorboard!=2.5.0,>=2.2.0\n",
            "  Downloading tensorboard-2.4.1-py3-none-any.whl (10.6 MB)\n",
            "\u001b[K     |████████████████████████████████| 10.6 MB 30.8 MB/s \n",
            "\u001b[?25hCollecting future>=0.17.1\n",
            "  Downloading future-0.18.2.tar.gz (829 kB)\n",
            "\u001b[K     |████████████████████████████████| 829 kB 38.0 MB/s \n",
            "\u001b[?25hRequirement already satisfied: requests in /usr/local/lib/python3.7/dist-packages (from fsspec[http]!=2021.06.0,>=2021.05.0->pytorch-lightning->deepforest) (2.23.0)\n",
            "Collecting aiohttp\n",
            "  Downloading aiohttp-3.7.4.post0-cp37-cp37m-manylinux2014_x86_64.whl (1.3 MB)\n",
            "\u001b[K     |████████████████████████████████| 1.3 MB 28.5 MB/s \n",
            "\u001b[?25hRequirement already satisfied: google-auth-oauthlib<0.5,>=0.4.1 in /usr/local/lib/python3.7/dist-packages (from tensorboard!=2.5.0,>=2.2.0->pytorch-lightning->deepforest) (0.4.4)\n",
            "Requirement already satisfied: wheel>=0.26 in /usr/local/lib/python3.7/dist-packages (from tensorboard!=2.5.0,>=2.2.0->pytorch-lightning->deepforest) (0.36.2)\n",
            "Requirement already satisfied: grpcio>=1.24.3 in /usr/local/lib/python3.7/dist-packages (from tensorboard!=2.5.0,>=2.2.0->pytorch-lightning->deepforest) (1.34.1)\n",
            "Requirement already satisfied: werkzeug>=0.11.15 in /usr/local/lib/python3.7/dist-packages (from tensorboard!=2.5.0,>=2.2.0->pytorch-lightning->deepforest) (1.0.1)\n",
            "Requirement already satisfied: tensorboard-plugin-wit>=1.6.0 in /usr/local/lib/python3.7/dist-packages (from tensorboard!=2.5.0,>=2.2.0->pytorch-lightning->deepforest) (1.8.0)\n",
            "Requirement already satisfied: protobuf>=3.6.0 in /usr/local/lib/python3.7/dist-packages (from tensorboard!=2.5.0,>=2.2.0->pytorch-lightning->deepforest) (3.17.3)\n",
            "Requirement already satisfied: google-auth<2,>=1.6.3 in /usr/local/lib/python3.7/dist-packages (from tensorboard!=2.5.0,>=2.2.0->pytorch-lightning->deepforest) (1.32.1)\n",
            "Requirement already satisfied: absl-py>=0.4 in /usr/local/lib/python3.7/dist-packages (from tensorboard!=2.5.0,>=2.2.0->pytorch-lightning->deepforest) (0.12.0)\n",
            "Requirement already satisfied: markdown>=2.6.8 in /usr/local/lib/python3.7/dist-packages (from tensorboard!=2.5.0,>=2.2.0->pytorch-lightning->deepforest) (3.3.4)\n",
            "Requirement already satisfied: cachetools<5.0,>=2.0.0 in /usr/local/lib/python3.7/dist-packages (from google-auth<2,>=1.6.3->tensorboard!=2.5.0,>=2.2.0->pytorch-lightning->deepforest) (4.2.2)\n",
            "Requirement already satisfied: pyasn1-modules>=0.2.1 in /usr/local/lib/python3.7/dist-packages (from google-auth<2,>=1.6.3->tensorboard!=2.5.0,>=2.2.0->pytorch-lightning->deepforest) (0.2.8)\n",
            "Requirement already satisfied: rsa<5,>=3.1.4 in /usr/local/lib/python3.7/dist-packages (from google-auth<2,>=1.6.3->tensorboard!=2.5.0,>=2.2.0->pytorch-lightning->deepforest) (4.7.2)\n",
            "Requirement already satisfied: requests-oauthlib>=0.7.0 in /usr/local/lib/python3.7/dist-packages (from google-auth-oauthlib<0.5,>=0.4.1->tensorboard!=2.5.0,>=2.2.0->pytorch-lightning->deepforest) (1.3.0)\n",
            "Requirement already satisfied: importlib-metadata in /usr/local/lib/python3.7/dist-packages (from markdown>=2.6.8->tensorboard!=2.5.0,>=2.2.0->pytorch-lightning->deepforest) (4.6.1)\n",
            "Requirement already satisfied: pyasn1<0.5.0,>=0.4.6 in /usr/local/lib/python3.7/dist-packages (from pyasn1-modules>=0.2.1->google-auth<2,>=1.6.3->tensorboard!=2.5.0,>=2.2.0->pytorch-lightning->deepforest) (0.4.8)\n",
            "Requirement already satisfied: urllib3!=1.25.0,!=1.25.1,<1.26,>=1.21.1 in /usr/local/lib/python3.7/dist-packages (from requests->fsspec[http]!=2021.06.0,>=2021.05.0->pytorch-lightning->deepforest) (1.24.3)\n",
            "Requirement already satisfied: chardet<4,>=3.0.2 in /usr/local/lib/python3.7/dist-packages (from requests->fsspec[http]!=2021.06.0,>=2021.05.0->pytorch-lightning->deepforest) (3.0.4)\n",
            "Requirement already satisfied: idna<3,>=2.5 in /usr/local/lib/python3.7/dist-packages (from requests->fsspec[http]!=2021.06.0,>=2021.05.0->pytorch-lightning->deepforest) (2.10)\n",
            "Requirement already satisfied: oauthlib>=3.0.0 in /usr/local/lib/python3.7/dist-packages (from requests-oauthlib>=0.7.0->google-auth-oauthlib<0.5,>=0.4.1->tensorboard!=2.5.0,>=2.2.0->pytorch-lightning->deepforest) (3.1.1)\n",
            "Collecting yarl<2.0,>=1.0\n",
            "  Downloading yarl-1.6.3-cp37-cp37m-manylinux2014_x86_64.whl (294 kB)\n",
            "\u001b[K     |████████████████████████████████| 294 kB 61.7 MB/s \n",
            "\u001b[?25hCollecting async-timeout<4.0,>=3.0\n",
            "  Downloading async_timeout-3.0.1-py3-none-any.whl (8.2 kB)\n",
            "Collecting multidict<7.0,>=4.5\n",
            "  Downloading multidict-5.1.0-cp37-cp37m-manylinux2014_x86_64.whl (142 kB)\n",
            "\u001b[K     |████████████████████████████████| 142 kB 58.4 MB/s \n",
            "\u001b[?25hRequirement already satisfied: zipp>=0.5 in /usr/local/lib/python3.7/dist-packages (from importlib-metadata->markdown>=2.6.8->tensorboard!=2.5.0,>=2.2.0->pytorch-lightning->deepforest) (3.5.0)\n",
            "Collecting snuggs>=1.4.1\n",
            "  Downloading snuggs-1.4.7-py3-none-any.whl (5.4 kB)\n",
            "Collecting affine\n",
            "  Downloading affine-2.3.0-py2.py3-none-any.whl (15 kB)\n",
            "Requirement already satisfied: psutil in /usr/local/lib/python3.7/dist-packages (from slidingwindow->deepforest) (5.4.8)\n",
            "Building wheels for collected packages: imgaug, future\n",
            "  Building wheel for imgaug (setup.py) ... \u001b[?25l\u001b[?25hdone\n",
            "  Created wheel for imgaug: filename=imgaug-0.2.6-py3-none-any.whl size=654019 sha256=41b6f64419358a569a80927e0039c0ae3aa7ee0578037f40d09f60b87705f302\n",
            "  Stored in directory: /root/.cache/pip/wheels/89/72/98/3ebfdba1069a9a8eaaa7ae7265cfd67d63ef0197aaee2e5f9c\n",
            "  Building wheel for future (setup.py) ... \u001b[?25l\u001b[?25hdone\n",
            "  Created wheel for future: filename=future-0.18.2-py3-none-any.whl size=491070 sha256=692757e98349a543427bb940aec989459f97cb8b54f21018456d160dcc19e52e\n",
            "  Stored in directory: /root/.cache/pip/wheels/56/b0/fe/4410d17b32f1f0c3cf54cdfb2bc04d7b4b8f4ae377e2229ba0\n",
            "Successfully built imgaug future\n",
            "Installing collected packages: multidict, yarl, scipy, async-timeout, munch, fsspec, cligj, click-plugins, aiohttp, torchmetrics, tensorboard, snuggs, PyYAML, pyproj, pyDeprecate, imgaug, future, fiona, affine, xmltodict, slidingwindow, rtree, rasterio, pytorch-lightning, imagecodecs, geopandas, deepforest\n",
            "  Attempting uninstall: scipy\n",
            "    Found existing installation: scipy 1.4.1\n",
            "    Uninstalling scipy-1.4.1:\n",
            "      Successfully uninstalled scipy-1.4.1\n",
            "  Attempting uninstall: tensorboard\n",
            "    Found existing installation: tensorboard 2.5.0\n",
            "    Uninstalling tensorboard-2.5.0:\n",
            "      Successfully uninstalled tensorboard-2.5.0\n",
            "  Attempting uninstall: PyYAML\n",
            "    Found existing installation: PyYAML 3.13\n",
            "    Uninstalling PyYAML-3.13:\n",
            "      Successfully uninstalled PyYAML-3.13\n",
            "  Attempting uninstall: imgaug\n",
            "    Found existing installation: imgaug 0.2.9\n",
            "    Uninstalling imgaug-0.2.9:\n",
            "      Successfully uninstalled imgaug-0.2.9\n",
            "  Attempting uninstall: future\n",
            "    Found existing installation: future 0.16.0\n",
            "    Uninstalling future-0.16.0:\n",
            "      Successfully uninstalled future-0.16.0\n",
            "\u001b[31mERROR: pip's dependency resolver does not currently take into account all the packages that are installed. This behaviour is the source of the following dependency conflicts.\n",
            "tensorflow 2.5.0 requires tensorboard~=2.5, but you have tensorboard 2.4.1 which is incompatible.\u001b[0m\n",
            "Successfully installed PyYAML-5.4.1 affine-2.3.0 aiohttp-3.7.4.post0 async-timeout-3.0.1 click-plugins-1.1.1 cligj-0.7.2 deepforest-1.1.0 fiona-1.8.20 fsspec-2021.7.0 future-0.18.2 geopandas-0.9.0 imagecodecs-2021.7.30 imgaug-0.2.6 multidict-5.1.0 munch-2.5.0 pyDeprecate-0.3.1 pyproj-3.1.0 pytorch-lightning-1.4.1 rasterio-1.2.6 rtree-0.9.7 scipy-1.7.1 slidingwindow-0.0.14 snuggs-1.4.7 tensorboard-2.4.1 torchmetrics-0.4.1 xmltodict-0.12.0 yarl-1.6.3\n"
          ],
          "name": "stdout"
        }
      ]
    },
    {
      "cell_type": "code",
      "metadata": {
        "colab": {
          "base_uri": "https://localhost:8080/"
        },
        "id": "-sWdEl4lgf_G",
        "outputId": "8f76038a-d181-4502-9afc-71a07d0d785a"
      },
      "source": [
        "!pip install albumentations==0.4.6\n",
        "import albumentations \n"
      ],
      "execution_count": null,
      "outputs": [
        {
          "output_type": "stream",
          "text": [
            "Collecting albumentations==0.4.6\n",
            "  Downloading albumentations-0.4.6.tar.gz (117 kB)\n",
            "\u001b[K     |████████████████████████████████| 117 kB 4.0 MB/s \n",
            "\u001b[?25hRequirement already satisfied: numpy>=1.11.1 in /usr/local/lib/python3.7/dist-packages (from albumentations==0.4.6) (1.19.5)\n",
            "Requirement already satisfied: scipy in /usr/local/lib/python3.7/dist-packages (from albumentations==0.4.6) (1.7.1)\n",
            "Collecting imgaug>=0.4.0\n",
            "  Downloading imgaug-0.4.0-py2.py3-none-any.whl (948 kB)\n",
            "\u001b[K     |████████████████████████████████| 948 kB 6.7 MB/s \n",
            "\u001b[?25hRequirement already satisfied: PyYAML in /usr/local/lib/python3.7/dist-packages (from albumentations==0.4.6) (5.4.1)\n",
            "Requirement already satisfied: opencv-python>=4.1.1 in /usr/local/lib/python3.7/dist-packages (from albumentations==0.4.6) (4.1.2.30)\n",
            "Requirement already satisfied: imageio in /usr/local/lib/python3.7/dist-packages (from imgaug>=0.4.0->albumentations==0.4.6) (2.4.1)\n",
            "Requirement already satisfied: matplotlib in /usr/local/lib/python3.7/dist-packages (from imgaug>=0.4.0->albumentations==0.4.6) (3.2.2)\n",
            "Requirement already satisfied: six in /usr/local/lib/python3.7/dist-packages (from imgaug>=0.4.0->albumentations==0.4.6) (1.15.0)\n",
            "Requirement already satisfied: Pillow in /usr/local/lib/python3.7/dist-packages (from imgaug>=0.4.0->albumentations==0.4.6) (7.1.2)\n",
            "Requirement already satisfied: scikit-image>=0.14.2 in /usr/local/lib/python3.7/dist-packages (from imgaug>=0.4.0->albumentations==0.4.6) (0.16.2)\n",
            "Requirement already satisfied: Shapely in /usr/local/lib/python3.7/dist-packages (from imgaug>=0.4.0->albumentations==0.4.6) (1.7.1)\n",
            "Requirement already satisfied: networkx>=2.0 in /usr/local/lib/python3.7/dist-packages (from scikit-image>=0.14.2->imgaug>=0.4.0->albumentations==0.4.6) (2.5.1)\n",
            "Requirement already satisfied: PyWavelets>=0.4.0 in /usr/local/lib/python3.7/dist-packages (from scikit-image>=0.14.2->imgaug>=0.4.0->albumentations==0.4.6) (1.1.1)\n",
            "Requirement already satisfied: kiwisolver>=1.0.1 in /usr/local/lib/python3.7/dist-packages (from matplotlib->imgaug>=0.4.0->albumentations==0.4.6) (1.3.1)\n",
            "Requirement already satisfied: pyparsing!=2.0.4,!=2.1.2,!=2.1.6,>=2.0.1 in /usr/local/lib/python3.7/dist-packages (from matplotlib->imgaug>=0.4.0->albumentations==0.4.6) (2.4.7)\n",
            "Requirement already satisfied: cycler>=0.10 in /usr/local/lib/python3.7/dist-packages (from matplotlib->imgaug>=0.4.0->albumentations==0.4.6) (0.10.0)\n",
            "Requirement already satisfied: python-dateutil>=2.1 in /usr/local/lib/python3.7/dist-packages (from matplotlib->imgaug>=0.4.0->albumentations==0.4.6) (2.8.1)\n",
            "Requirement already satisfied: decorator<5,>=4.3 in /usr/local/lib/python3.7/dist-packages (from networkx>=2.0->scikit-image>=0.14.2->imgaug>=0.4.0->albumentations==0.4.6) (4.4.2)\n",
            "Building wheels for collected packages: albumentations\n",
            "  Building wheel for albumentations (setup.py) ... \u001b[?25l\u001b[?25hdone\n",
            "  Created wheel for albumentations: filename=albumentations-0.4.6-py3-none-any.whl size=65173 sha256=dbdbd189de4bfe9549016339b7e4bbca65a1f02c9ee03d3d9c115592aebbdbb7\n",
            "  Stored in directory: /root/.cache/pip/wheels/cf/34/0f/cb2a5f93561a181a4bcc84847ad6aaceea8b5a3127469616cc\n",
            "Successfully built albumentations\n",
            "Installing collected packages: imgaug, albumentations\n",
            "  Attempting uninstall: imgaug\n",
            "    Found existing installation: imgaug 0.2.6\n",
            "    Uninstalling imgaug-0.2.6:\n",
            "      Successfully uninstalled imgaug-0.2.6\n",
            "  Attempting uninstall: albumentations\n",
            "    Found existing installation: albumentations 0.1.12\n",
            "    Uninstalling albumentations-0.1.12:\n",
            "      Successfully uninstalled albumentations-0.1.12\n",
            "Successfully installed albumentations-0.4.6 imgaug-0.4.0\n"
          ],
          "name": "stdout"
        }
      ]
    },
    {
      "cell_type": "code",
      "metadata": {
        "id": "7hubS3MBgob1"
      },
      "source": [
        "from albumentations.pytorch import ToTensorV2"
      ],
      "execution_count": null,
      "outputs": []
    },
    {
      "cell_type": "code",
      "metadata": {
        "id": "j67RazBjgggz"
      },
      "source": [
        ""
      ],
      "execution_count": null,
      "outputs": []
    },
    {
      "cell_type": "code",
      "metadata": {
        "id": "R02M0EdUgMBN"
      },
      "source": [
        ""
      ],
      "execution_count": null,
      "outputs": []
    },
    {
      "cell_type": "code",
      "metadata": {
        "id": "uraEWunn9VSz"
      },
      "source": [
        "#load the modules\n",
        "import os\n",
        "import time\n",
        "import numpy as np\n",
        "from deepforest import main \n",
        "from deepforest import get_data\n",
        "from deepforest import utilities\n",
        "from deepforest import preprocess"
      ],
      "execution_count": null,
      "outputs": []
    },
    {
      "cell_type": "code",
      "metadata": {
        "id": "wlDijCNdf2b7",
        "colab": {
          "base_uri": "https://localhost:8080/"
        },
        "outputId": "a4442717-d574-4732-a1b2-826f78f92df3"
      },
      "source": [
        "from deepforest import main\n",
        "from deepforest import get_data\n",
        "import os\n",
        "import matplotlib.pyplot as plt\n",
        "model = main.deepforest()\n",
        "model.use_release()\n"
      ],
      "execution_count": null,
      "outputs": [
        {
          "output_type": "stream",
          "text": [
            "Reading config file: /usr/local/lib/python3.7/dist-packages/deepforest/data/deepforest_config.yml\n",
            "Model from DeepForest release https://github.com/weecology/DeepForest/releases/tag/1.0.0 was already downloaded. Loading model from file.\n",
            "Loading pre-built model: https://github.com/weecology/DeepForest/releases/tag/1.0.0\n"
          ],
          "name": "stdout"
        }
      ]
    },
    {
      "cell_type": "markdown",
      "metadata": {
        "id": "CRIWPV6n3cYg"
      },
      "source": [
        "Your preds\n"
      ]
    },
    {
      "cell_type": "code",
      "metadata": {
        "id": "Z5fipaGqpENi"
      },
      "source": [
        "# import tempfile\n",
        "# import pandas as pd\n",
        "# tmpdir = tempfile.TemporaryDirectory()\n",
        "\n",
        "# m.use_release()\n",
        "\n",
        "# #save the prediction dataframe after training and compare with prediction after reload checkpoint \n",
        "# img_path = get_data(\"OSBS_029.png\")\n",
        "# m.create_trainer()\n",
        "# m.trainer.fit(m)\n",
        "# pred_after_train = m.predict_image(path = img_path)\n",
        "\n",
        "# #Create a trainer to make a checkpoint\n",
        "# model.trainer.save_checkpoint(\"{}/checkpoint.pl\".format(tmpdir))\n",
        "\n",
        "# #reload the checkpoint to model object\n",
        "# after = main.deepforest.load_from_checkpoint(\"{}/checkpoint.pl\".format(tmpdir))\n",
        "# pred_after_reload = after.predict_image(path = img_path)\n",
        "\n",
        "# assert not pred_after_train.empty\n",
        "# assert not pred_after_reload.empty\n",
        "# pd.testing.assert_frame_equal(pred_after_train,pred_after_reload)"
      ],
      "execution_count": null,
      "outputs": []
    },
    {
      "cell_type": "code",
      "metadata": {
        "colab": {
          "base_uri": "https://localhost:8080/"
        },
        "id": "qzRjiCk2Ruwd",
        "outputId": "25b705dd-7081-4571-e614-732c2d113823"
      },
      "source": [
        "!pip install geopandas\n",
        "!pip install rasterio"
      ],
      "execution_count": null,
      "outputs": [
        {
          "output_type": "stream",
          "text": [
            "Requirement already satisfied: geopandas in /usr/local/lib/python3.7/dist-packages (0.9.0)\n",
            "Requirement already satisfied: shapely>=1.6 in /usr/local/lib/python3.7/dist-packages (from geopandas) (1.7.1)\n",
            "Requirement already satisfied: pandas>=0.24.0 in /usr/local/lib/python3.7/dist-packages (from geopandas) (1.1.5)\n",
            "Requirement already satisfied: pyproj>=2.2.0 in /usr/local/lib/python3.7/dist-packages (from geopandas) (3.1.0)\n",
            "Requirement already satisfied: fiona>=1.8 in /usr/local/lib/python3.7/dist-packages (from geopandas) (1.8.20)\n",
            "Requirement already satisfied: cligj>=0.5 in /usr/local/lib/python3.7/dist-packages (from fiona>=1.8->geopandas) (0.7.2)\n",
            "Requirement already satisfied: certifi in /usr/local/lib/python3.7/dist-packages (from fiona>=1.8->geopandas) (2021.5.30)\n",
            "Requirement already satisfied: click>=4.0 in /usr/local/lib/python3.7/dist-packages (from fiona>=1.8->geopandas) (7.1.2)\n",
            "Requirement already satisfied: six>=1.7 in /usr/local/lib/python3.7/dist-packages (from fiona>=1.8->geopandas) (1.15.0)\n",
            "Requirement already satisfied: munch in /usr/local/lib/python3.7/dist-packages (from fiona>=1.8->geopandas) (2.5.0)\n",
            "Requirement already satisfied: setuptools in /usr/local/lib/python3.7/dist-packages (from fiona>=1.8->geopandas) (57.2.0)\n",
            "Requirement already satisfied: attrs>=17 in /usr/local/lib/python3.7/dist-packages (from fiona>=1.8->geopandas) (21.2.0)\n",
            "Requirement already satisfied: click-plugins>=1.0 in /usr/local/lib/python3.7/dist-packages (from fiona>=1.8->geopandas) (1.1.1)\n",
            "Requirement already satisfied: numpy>=1.15.4 in /usr/local/lib/python3.7/dist-packages (from pandas>=0.24.0->geopandas) (1.19.5)\n",
            "Requirement already satisfied: pytz>=2017.2 in /usr/local/lib/python3.7/dist-packages (from pandas>=0.24.0->geopandas) (2018.9)\n",
            "Requirement already satisfied: python-dateutil>=2.7.3 in /usr/local/lib/python3.7/dist-packages (from pandas>=0.24.0->geopandas) (2.8.1)\n",
            "Requirement already satisfied: rasterio in /usr/local/lib/python3.7/dist-packages (1.2.6)\n",
            "Requirement already satisfied: click-plugins in /usr/local/lib/python3.7/dist-packages (from rasterio) (1.1.1)\n",
            "Requirement already satisfied: numpy in /usr/local/lib/python3.7/dist-packages (from rasterio) (1.19.5)\n",
            "Requirement already satisfied: attrs in /usr/local/lib/python3.7/dist-packages (from rasterio) (21.2.0)\n",
            "Requirement already satisfied: click>=4.0 in /usr/local/lib/python3.7/dist-packages (from rasterio) (7.1.2)\n",
            "Requirement already satisfied: affine in /usr/local/lib/python3.7/dist-packages (from rasterio) (2.3.0)\n",
            "Requirement already satisfied: snuggs>=1.4.1 in /usr/local/lib/python3.7/dist-packages (from rasterio) (1.4.7)\n",
            "Requirement already satisfied: setuptools in /usr/local/lib/python3.7/dist-packages (from rasterio) (57.2.0)\n",
            "Requirement already satisfied: certifi in /usr/local/lib/python3.7/dist-packages (from rasterio) (2021.5.30)\n",
            "Requirement already satisfied: cligj>=0.5 in /usr/local/lib/python3.7/dist-packages (from rasterio) (0.7.2)\n",
            "Requirement already satisfied: pyparsing>=2.1.6 in /usr/local/lib/python3.7/dist-packages (from snuggs>=1.4.1->rasterio) (2.4.7)\n"
          ],
          "name": "stdout"
        }
      ]
    },
    {
      "cell_type": "markdown",
      "metadata": {
        "id": "Sej3yfW5CH-D"
      },
      "source": [
        "# Code for CSV to shp"
      ]
    },
    {
      "cell_type": "markdown",
      "metadata": {
        "id": "bUhbtMWPBaTp"
      },
      "source": [
        "\n",
        "\n",
        "Code to convert dataframe csv to shp\n",
        "\n",
        "\n"
      ]
    },
    {
      "cell_type": "code",
      "metadata": {
        "id": "9cnShdpkFCDi",
        "colab": {
          "base_uri": "https://localhost:8080/"
        },
        "outputId": "8224f27d-a826-4f97-cd7f-8cfb3b99c0b8"
      },
      "source": [
        "!pip install pyshp\n",
        "import rasterio\n",
        "import geopandas as gpd \n",
        "import shapefile"
      ],
      "execution_count": null,
      "outputs": [
        {
          "output_type": "stream",
          "text": [
            "Collecting pyshp\n",
            "  Downloading pyshp-2.1.3.tar.gz (219 kB)\n",
            "\u001b[?25l\r\u001b[K     |█▌                              | 10 kB 26.6 MB/s eta 0:00:01\r\u001b[K     |███                             | 20 kB 28.3 MB/s eta 0:00:01\r\u001b[K     |████▌                           | 30 kB 13.0 MB/s eta 0:00:01\r\u001b[K     |██████                          | 40 kB 9.9 MB/s eta 0:00:01\r\u001b[K     |███████▌                        | 51 kB 4.5 MB/s eta 0:00:01\r\u001b[K     |█████████                       | 61 kB 4.7 MB/s eta 0:00:01\r\u001b[K     |██████████▍                     | 71 kB 4.5 MB/s eta 0:00:01\r\u001b[K     |████████████                    | 81 kB 5.1 MB/s eta 0:00:01\r\u001b[K     |█████████████▍                  | 92 kB 5.0 MB/s eta 0:00:01\r\u001b[K     |███████████████                 | 102 kB 4.3 MB/s eta 0:00:01\r\u001b[K     |████████████████▍               | 112 kB 4.3 MB/s eta 0:00:01\r\u001b[K     |██████████████████              | 122 kB 4.3 MB/s eta 0:00:01\r\u001b[K     |███████████████████▍            | 133 kB 4.3 MB/s eta 0:00:01\r\u001b[K     |████████████████████▉           | 143 kB 4.3 MB/s eta 0:00:01\r\u001b[K     |██████████████████████▍         | 153 kB 4.3 MB/s eta 0:00:01\r\u001b[K     |███████████████████████▉        | 163 kB 4.3 MB/s eta 0:00:01\r\u001b[K     |█████████████████████████▍      | 174 kB 4.3 MB/s eta 0:00:01\r\u001b[K     |██████████████████████████▉     | 184 kB 4.3 MB/s eta 0:00:01\r\u001b[K     |████████████████████████████▍   | 194 kB 4.3 MB/s eta 0:00:01\r\u001b[K     |█████████████████████████████▉  | 204 kB 4.3 MB/s eta 0:00:01\r\u001b[K     |███████████████████████████████▎| 215 kB 4.3 MB/s eta 0:00:01\r\u001b[K     |████████████████████████████████| 219 kB 4.3 MB/s \n",
            "\u001b[?25hBuilding wheels for collected packages: pyshp\n",
            "  Building wheel for pyshp (setup.py) ... \u001b[?25l\u001b[?25hdone\n",
            "  Created wheel for pyshp: filename=pyshp-2.1.3-py3-none-any.whl size=37324 sha256=ad5b59bfec3100dbbcf0cf6aff9fde9978a151d6accb58edca64ce026e797cdf\n",
            "  Stored in directory: /root/.cache/pip/wheels/43/f8/87/53c8cd41545ba20e536ea29a8fcb5431b5f477ca50d5dffbbe\n",
            "Successfully built pyshp\n",
            "Installing collected packages: pyshp\n",
            "Successfully installed pyshp-2.1.3\n"
          ],
          "name": "stdout"
        }
      ]
    },
    {
      "cell_type": "code",
      "metadata": {
        "id": "8hU4X9Ry5V4o"
      },
      "source": [
        "from google.colab import drive\n",
        "drive.mount('/content/drive')"
      ],
      "execution_count": null,
      "outputs": []
    },
    {
      "cell_type": "code",
      "metadata": {
        "id": "0zqABKObsB_G"
      },
      "source": [
        "#In this code block change directory where tiff files (Smaller tiles of 3000*3000 in our case) are stored\n",
        "#change directory here\n",
        "directory=\"/content/drive/MyDrive/GSoC_2021/tiles3000\" #Directory where original 3000 * 3000 tiff files present"
      ],
      "execution_count": null,
      "outputs": []
    },
    {
      "cell_type": "code",
      "metadata": {
        "colab": {
          "base_uri": "https://localhost:8080/"
        },
        "id": "MilFfThfCQtl",
        "outputId": "5e01c546-7a05-41ee-e4c2-fa0aa9fb8c4c"
      },
      "source": [
        "import os\n",
        "from os import mkdir\n",
        "\n",
        "\n",
        "fic=0\n",
        "import pandas as pd\n",
        "df = pd.DataFrame(columns = ['xmin',    'ymin'  ,  'xmax'   , 'ymax' ,'label'   ,  'score'])\n",
        "\n",
        "for filename in os.listdir(directory):\n",
        "            if filename.endswith(\".tif\") : #or filename.endswith(\".png\")\n",
        "                \n",
        "                filep = str(os.path.join(directory, filename))\n",
        "                fx=filep.split('.')[0]\n",
        "                # print(fx)\n",
        "                # mkdir(fx)\n",
        "\n",
        "                #creates folder for next step where shapefiles of the bounding boxes would be saved, for each tile\n",
        "                if not os.path.exists(fx):\n",
        "                  try:\n",
        "                      os.mkdir(fx)\n",
        "                  except:\n",
        "                      raise OSError(\"Can't create destination directory for saving CSV (%s)!\" % (fx))  \n",
        "\n",
        "                # img = model.predict_image(path=filep,return_plot=True)\n",
        "                boxes = model.predict_image(path=filep, return_plot = False)\n",
        "                # # df=pd.concat([df,boxes])\n",
        "                # # # df = df.iloc[: , 1:]\n",
        "                # # # print(boxes)\n",
        "                fn=filename.split('.')[0]\n",
        "                \n",
        "                #this will export the predictions to a CSV file.\n",
        "                boxes.to_csv(directory+'/'+fn+'.csv')\n"
      ],
      "execution_count": null,
      "outputs": [
        {
          "output_type": "stream",
          "text": [
            "/content/drive/MyDrive/GSoC_2021/tiles3000/tile__0_0\n"
          ],
          "name": "stdout"
        },
        {
          "output_type": "stream",
          "text": [
            "/usr/local/lib/python3.7/dist-packages/torch/nn/functional.py:718: UserWarning: Named tensors and all their associated APIs are an experimental feature and subject to change. Please do not use them for anything important until they are released as stable. (Triggered internally at  /pytorch/c10/core/TensorImpl.h:1156.)\n",
            "  return torch.max_pool2d(input, kernel_size, stride, padding, dilation, ceil_mode)\n"
          ],
          "name": "stderr"
        },
        {
          "output_type": "stream",
          "text": [
            "/content/drive/MyDrive/GSoC_2021/tiles3000/tile__0_3000\n",
            "/content/drive/MyDrive/GSoC_2021/tiles3000/tile__0_6000\n",
            "/content/drive/MyDrive/GSoC_2021/tiles3000/tile__0_9000\n",
            "/content/drive/MyDrive/GSoC_2021/tiles3000/tile__0_12000\n",
            "/content/drive/MyDrive/GSoC_2021/tiles3000/tile__0_15000\n",
            "/content/drive/MyDrive/GSoC_2021/tiles3000/tile__0_18000\n",
            "/content/drive/MyDrive/GSoC_2021/tiles3000/tile__0_21000\n",
            "/content/drive/MyDrive/GSoC_2021/tiles3000/tile__3000_0\n",
            "/content/drive/MyDrive/GSoC_2021/tiles3000/tile__3000_3000\n",
            "/content/drive/MyDrive/GSoC_2021/tiles3000/tile__3000_6000\n",
            "/content/drive/MyDrive/GSoC_2021/tiles3000/tile__3000_9000\n",
            "/content/drive/MyDrive/GSoC_2021/tiles3000/tile__3000_12000\n",
            "/content/drive/MyDrive/GSoC_2021/tiles3000/tile__3000_15000\n",
            "/content/drive/MyDrive/GSoC_2021/tiles3000/tile__3000_18000\n",
            "/content/drive/MyDrive/GSoC_2021/tiles3000/tile__3000_21000\n",
            "/content/drive/MyDrive/GSoC_2021/tiles3000/tile__6000_0\n",
            "/content/drive/MyDrive/GSoC_2021/tiles3000/tile__6000_3000\n",
            "/content/drive/MyDrive/GSoC_2021/tiles3000/tile__6000_6000\n",
            "/content/drive/MyDrive/GSoC_2021/tiles3000/tile__6000_9000\n",
            "/content/drive/MyDrive/GSoC_2021/tiles3000/tile__6000_12000\n",
            "/content/drive/MyDrive/GSoC_2021/tiles3000/tile__6000_15000\n",
            "/content/drive/MyDrive/GSoC_2021/tiles3000/tile__6000_18000\n",
            "/content/drive/MyDrive/GSoC_2021/tiles3000/tile__6000_21000\n",
            "/content/drive/MyDrive/GSoC_2021/tiles3000/tile__9000_0\n",
            "/content/drive/MyDrive/GSoC_2021/tiles3000/tile__9000_3000\n",
            "/content/drive/MyDrive/GSoC_2021/tiles3000/tile__9000_6000\n",
            "/content/drive/MyDrive/GSoC_2021/tiles3000/tile__9000_9000\n",
            "/content/drive/MyDrive/GSoC_2021/tiles3000/tile__9000_12000\n",
            "/content/drive/MyDrive/GSoC_2021/tiles3000/tile__9000_15000\n",
            "/content/drive/MyDrive/GSoC_2021/tiles3000/tile__9000_18000\n",
            "/content/drive/MyDrive/GSoC_2021/tiles3000/tile__9000_21000\n",
            "/content/drive/MyDrive/GSoC_2021/tiles3000/tile__12000_0\n",
            "/content/drive/MyDrive/GSoC_2021/tiles3000/tile__12000_3000\n",
            "/content/drive/MyDrive/GSoC_2021/tiles3000/tile__12000_6000\n",
            "/content/drive/MyDrive/GSoC_2021/tiles3000/tile__12000_9000\n",
            "/content/drive/MyDrive/GSoC_2021/tiles3000/tile__12000_12000\n",
            "/content/drive/MyDrive/GSoC_2021/tiles3000/tile__12000_15000\n",
            "/content/drive/MyDrive/GSoC_2021/tiles3000/tile__12000_18000\n",
            "/content/drive/MyDrive/GSoC_2021/tiles3000/tile__12000_21000\n",
            "/content/drive/MyDrive/GSoC_2021/tiles3000/tile__15000_0\n",
            "/content/drive/MyDrive/GSoC_2021/tiles3000/tile__15000_3000\n",
            "/content/drive/MyDrive/GSoC_2021/tiles3000/tile__15000_6000\n",
            "/content/drive/MyDrive/GSoC_2021/tiles3000/tile__15000_9000\n",
            "/content/drive/MyDrive/GSoC_2021/tiles3000/tile__15000_12000\n",
            "/content/drive/MyDrive/GSoC_2021/tiles3000/tile__15000_15000\n",
            "/content/drive/MyDrive/GSoC_2021/tiles3000/tile__15000_18000\n",
            "/content/drive/MyDrive/GSoC_2021/tiles3000/tile__15000_21000\n",
            "/content/drive/MyDrive/GSoC_2021/tiles3000/tile__18000_0\n",
            "/content/drive/MyDrive/GSoC_2021/tiles3000/tile__18000_3000\n",
            "/content/drive/MyDrive/GSoC_2021/tiles3000/tile__18000_6000\n",
            "/content/drive/MyDrive/GSoC_2021/tiles3000/tile__18000_9000\n",
            "/content/drive/MyDrive/GSoC_2021/tiles3000/tile__18000_12000\n",
            "/content/drive/MyDrive/GSoC_2021/tiles3000/tile__18000_15000\n",
            "/content/drive/MyDrive/GSoC_2021/tiles3000/tile__18000_18000\n",
            "/content/drive/MyDrive/GSoC_2021/tiles3000/tile__18000_21000\n",
            "/content/drive/MyDrive/GSoC_2021/tiles3000/tile__21000_0\n",
            "/content/drive/MyDrive/GSoC_2021/tiles3000/tile__21000_3000\n",
            "/content/drive/MyDrive/GSoC_2021/tiles3000/tile__21000_6000\n",
            "/content/drive/MyDrive/GSoC_2021/tiles3000/tile__21000_9000\n",
            "/content/drive/MyDrive/GSoC_2021/tiles3000/tile__21000_12000\n",
            "/content/drive/MyDrive/GSoC_2021/tiles3000/tile__21000_15000\n",
            "/content/drive/MyDrive/GSoC_2021/tiles3000/tile__21000_18000\n",
            "/content/drive/MyDrive/GSoC_2021/tiles3000/tile__21000_21000\n"
          ],
          "name": "stdout"
        }
      ]
    },
    {
      "cell_type": "code",
      "metadata": {
        "colab": {
          "base_uri": "https://localhost:8080/"
        },
        "id": "imGecqI0BnCH",
        "outputId": "4fd12c9c-02da-4be4-d371-4be9119bbae7"
      },
      "source": [
        "#Reads each CSV file (which has predictions) for corresponding TIFF image and converts each prediction to a shapefile for each bounding box\n",
        "#suppose if we have 3 smaller tiles of 3000*3000 then three seperate folders will be created for each file, the folder will contain shapefiles for the corresponding tile.\n",
        "#If a tile has N number of trees (as predicted by model) then N number of shapefiles will be created.\n",
        "for filename in os.listdir(directory):\n",
        "            if filename.endswith(\".csv\") : #or filename.endswith(\".png\")\n",
        "                \n",
        "                filep = str(os.path.join(directory, filename))\n",
        "\n",
        "\n",
        "                training_csv = gpd.read_file(filep)\n",
        "                # print(filepcsv)\n",
        "                fx1=filep.split('.')[0]\n",
        "                # training_csv.drop(['filename', 'width', 'height', 'class', 'geometry'], axis=1, inplace=True)\n",
        "\n",
        "                tif_file =   fx1+'.tif'\n",
        "                # print(tif_file)\n",
        "                fn1=filename.split('.')[0]\n",
        "                shp_path =    fx1+'/'+fn1+'shapefiles'+'/'\n",
        "                # print(shp_path) # don't add extension\n",
        "                \n",
        "                save_name=0\n",
        "                # print(save_name)\n",
        "\n",
        "                \n",
        "\n",
        "                with rasterio.open(tif_file) as image:\n",
        "                    bounds = image.bounds\n",
        "                    pixelSizeX, pixelSizeY  = image.res\n",
        "                # # open georeferenced tif file\n",
        "                # with rasterio.open(tif_file) as image:\n",
        "                    left, bottom, right, top = image.bounds\n",
        "                    # print(left,',',bottom,',',right,',',top)\n",
        "                    for i in training_csv.iterrows():\n",
        "                        # print(i[1])\n",
        "                        xmin = float(i[1][1])\n",
        "                        ymin = float(i[1][2])\n",
        "                        xmax = float(i[1][3])\n",
        "                        ymax = float(i[1][4])\n",
        "                        # print(xmin,',',ymin,',',xmax,',',ymax)\n",
        "                        lb=(left,bottom)\n",
        "                        rt=(right,top)\n",
        "\n",
        "                        minx=left+pixelSizeX*xmin\n",
        "                        miny=top-pixelSizeY*ymax\n",
        "                        maxx=left+pixelSizeX*xmax\n",
        "                        maxy=top-pixelSizeY*ymin\n",
        "                        # print(minx,',',miny,',',maxx,',',maxy)\n",
        "                        # get vertices of the bounding box\n",
        "                        # geocoordinates from pixel coordinates\n",
        "                        # res=tuple(map(operator.sub, test_tup1, test_tup2))\n",
        "                        p1 = (minx,miny)\n",
        "                        p2 = (maxx,miny)\n",
        "                        p3 = (maxx,maxy)\n",
        "                        p4 = (minx,maxy)\n",
        "\n",
        "                        # p1 = image.xy(xmin, ymin)\n",
        "                        # p2 = image.xy(xmax, ymin)\n",
        "                        # p3 = image.xy(xmax, ymax)\n",
        "                        # p4 = image.xy(xmin, ymax)\n",
        "                        # print(p1,',', p2,',',p3,',',p4)\n",
        "                        from osgeo import gdal\n",
        "\n",
        "                        # bbox = (xmin,ymin,xmax,ymax)\n",
        "                        # print(bbox)\n",
        "\n",
        "                        # save shapefile containing one bounding box shape\n",
        "\n",
        "                ##############       ###############\n",
        "                        w = shapefile.Writer(shp_path + str(save_name) + '.shp')\n",
        "                        w.field(\"name\", \"C\")  # pyshp needs at least one field\n",
        "                        w.poly([[ p1, p2, p3,p4]])  # generate bbox polygon\n",
        "                        w.record('bbox')\n",
        "                        w.close()\n",
        "\n",
        "                        # generate .PRJ file\n",
        "                        crs_wkt = image.crs.to_wkt()\n",
        "                        prj = open(shp_path + str(save_name) + '.prj', \"w\")\n",
        "                        prj.write(crs_wkt)\n",
        "                        prj.close()\n",
        "\n",
        "                        save_name = save_name + 1\n",
        "                        "
      ],
      "execution_count": null,
      "outputs": [
        {
          "output_type": "stream",
          "text": [
            "/content/drive/MyDrive/GSoC_2021/tiles3000/tile__0_0/tile__0_0shapefiles/\n",
            "/content/drive/MyDrive/GSoC_2021/tiles3000/tile__0_3000/tile__0_3000shapefiles/\n",
            "/content/drive/MyDrive/GSoC_2021/tiles3000/tile__0_6000/tile__0_6000shapefiles/\n",
            "/content/drive/MyDrive/GSoC_2021/tiles3000/tile__0_9000/tile__0_9000shapefiles/\n",
            "/content/drive/MyDrive/GSoC_2021/tiles3000/tile__0_12000/tile__0_12000shapefiles/\n",
            "/content/drive/MyDrive/GSoC_2021/tiles3000/tile__0_15000/tile__0_15000shapefiles/\n",
            "/content/drive/MyDrive/GSoC_2021/tiles3000/tile__0_18000/tile__0_18000shapefiles/\n",
            "/content/drive/MyDrive/GSoC_2021/tiles3000/tile__0_21000/tile__0_21000shapefiles/\n",
            "/content/drive/MyDrive/GSoC_2021/tiles3000/tile__3000_0/tile__3000_0shapefiles/\n",
            "/content/drive/MyDrive/GSoC_2021/tiles3000/tile__3000_3000/tile__3000_3000shapefiles/\n",
            "/content/drive/MyDrive/GSoC_2021/tiles3000/tile__3000_6000/tile__3000_6000shapefiles/\n",
            "/content/drive/MyDrive/GSoC_2021/tiles3000/tile__3000_9000/tile__3000_9000shapefiles/\n",
            "/content/drive/MyDrive/GSoC_2021/tiles3000/tile__3000_12000/tile__3000_12000shapefiles/\n",
            "/content/drive/MyDrive/GSoC_2021/tiles3000/tile__3000_15000/tile__3000_15000shapefiles/\n",
            "/content/drive/MyDrive/GSoC_2021/tiles3000/tile__3000_18000/tile__3000_18000shapefiles/\n",
            "/content/drive/MyDrive/GSoC_2021/tiles3000/tile__3000_21000/tile__3000_21000shapefiles/\n",
            "/content/drive/MyDrive/GSoC_2021/tiles3000/tile__6000_0/tile__6000_0shapefiles/\n",
            "/content/drive/MyDrive/GSoC_2021/tiles3000/tile__6000_3000/tile__6000_3000shapefiles/\n",
            "/content/drive/MyDrive/GSoC_2021/tiles3000/tile__6000_6000/tile__6000_6000shapefiles/\n",
            "/content/drive/MyDrive/GSoC_2021/tiles3000/tile__6000_9000/tile__6000_9000shapefiles/\n",
            "/content/drive/MyDrive/GSoC_2021/tiles3000/tile__6000_12000/tile__6000_12000shapefiles/\n",
            "/content/drive/MyDrive/GSoC_2021/tiles3000/tile__6000_15000/tile__6000_15000shapefiles/\n",
            "/content/drive/MyDrive/GSoC_2021/tiles3000/tile__6000_18000/tile__6000_18000shapefiles/\n",
            "/content/drive/MyDrive/GSoC_2021/tiles3000/tile__6000_21000/tile__6000_21000shapefiles/\n",
            "/content/drive/MyDrive/GSoC_2021/tiles3000/tile__9000_0/tile__9000_0shapefiles/\n",
            "/content/drive/MyDrive/GSoC_2021/tiles3000/tile__9000_3000/tile__9000_3000shapefiles/\n",
            "/content/drive/MyDrive/GSoC_2021/tiles3000/tile__9000_6000/tile__9000_6000shapefiles/\n",
            "/content/drive/MyDrive/GSoC_2021/tiles3000/tile__9000_9000/tile__9000_9000shapefiles/\n",
            "/content/drive/MyDrive/GSoC_2021/tiles3000/tile__9000_12000/tile__9000_12000shapefiles/\n",
            "/content/drive/MyDrive/GSoC_2021/tiles3000/tile__9000_15000/tile__9000_15000shapefiles/\n",
            "/content/drive/MyDrive/GSoC_2021/tiles3000/tile__9000_18000/tile__9000_18000shapefiles/\n",
            "/content/drive/MyDrive/GSoC_2021/tiles3000/tile__9000_21000/tile__9000_21000shapefiles/\n",
            "/content/drive/MyDrive/GSoC_2021/tiles3000/tile__12000_0/tile__12000_0shapefiles/\n",
            "/content/drive/MyDrive/GSoC_2021/tiles3000/tile__12000_3000/tile__12000_3000shapefiles/\n",
            "/content/drive/MyDrive/GSoC_2021/tiles3000/tile__12000_6000/tile__12000_6000shapefiles/\n",
            "/content/drive/MyDrive/GSoC_2021/tiles3000/tile__12000_9000/tile__12000_9000shapefiles/\n",
            "/content/drive/MyDrive/GSoC_2021/tiles3000/tile__12000_12000/tile__12000_12000shapefiles/\n",
            "/content/drive/MyDrive/GSoC_2021/tiles3000/tile__12000_15000/tile__12000_15000shapefiles/\n",
            "/content/drive/MyDrive/GSoC_2021/tiles3000/tile__12000_18000/tile__12000_18000shapefiles/\n",
            "/content/drive/MyDrive/GSoC_2021/tiles3000/tile__12000_21000/tile__12000_21000shapefiles/\n",
            "/content/drive/MyDrive/GSoC_2021/tiles3000/tile__15000_0/tile__15000_0shapefiles/\n",
            "/content/drive/MyDrive/GSoC_2021/tiles3000/tile__15000_3000/tile__15000_3000shapefiles/\n",
            "/content/drive/MyDrive/GSoC_2021/tiles3000/tile__15000_6000/tile__15000_6000shapefiles/\n",
            "/content/drive/MyDrive/GSoC_2021/tiles3000/tile__15000_9000/tile__15000_9000shapefiles/\n",
            "/content/drive/MyDrive/GSoC_2021/tiles3000/tile__15000_12000/tile__15000_12000shapefiles/\n",
            "/content/drive/MyDrive/GSoC_2021/tiles3000/tile__15000_15000/tile__15000_15000shapefiles/\n",
            "/content/drive/MyDrive/GSoC_2021/tiles3000/tile__15000_18000/tile__15000_18000shapefiles/\n",
            "/content/drive/MyDrive/GSoC_2021/tiles3000/tile__15000_21000/tile__15000_21000shapefiles/\n",
            "/content/drive/MyDrive/GSoC_2021/tiles3000/tile__18000_0/tile__18000_0shapefiles/\n",
            "/content/drive/MyDrive/GSoC_2021/tiles3000/tile__18000_3000/tile__18000_3000shapefiles/\n",
            "/content/drive/MyDrive/GSoC_2021/tiles3000/tile__18000_6000/tile__18000_6000shapefiles/\n",
            "/content/drive/MyDrive/GSoC_2021/tiles3000/tile__18000_9000/tile__18000_9000shapefiles/\n",
            "/content/drive/MyDrive/GSoC_2021/tiles3000/tile__18000_12000/tile__18000_12000shapefiles/\n",
            "/content/drive/MyDrive/GSoC_2021/tiles3000/tile__18000_15000/tile__18000_15000shapefiles/\n",
            "/content/drive/MyDrive/GSoC_2021/tiles3000/tile__18000_18000/tile__18000_18000shapefiles/\n",
            "/content/drive/MyDrive/GSoC_2021/tiles3000/tile__18000_21000/tile__18000_21000shapefiles/\n",
            "/content/drive/MyDrive/GSoC_2021/tiles3000/tile__21000_0/tile__21000_0shapefiles/\n",
            "/content/drive/MyDrive/GSoC_2021/tiles3000/tile__21000_3000/tile__21000_3000shapefiles/\n",
            "/content/drive/MyDrive/GSoC_2021/tiles3000/tile__21000_6000/tile__21000_6000shapefiles/\n",
            "/content/drive/MyDrive/GSoC_2021/tiles3000/tile__21000_9000/tile__21000_9000shapefiles/\n",
            "/content/drive/MyDrive/GSoC_2021/tiles3000/tile__21000_12000/tile__21000_12000shapefiles/\n",
            "/content/drive/MyDrive/GSoC_2021/tiles3000/tile__21000_15000/tile__21000_15000shapefiles/\n",
            "/content/drive/MyDrive/GSoC_2021/tiles3000/tile__21000_18000/tile__21000_18000shapefiles/\n",
            "/content/drive/MyDrive/GSoC_2021/tiles3000/tile__21000_21000/tile__21000_21000shapefiles/\n"
          ],
          "name": "stdout"
        }
      ]
    }
  ]
}