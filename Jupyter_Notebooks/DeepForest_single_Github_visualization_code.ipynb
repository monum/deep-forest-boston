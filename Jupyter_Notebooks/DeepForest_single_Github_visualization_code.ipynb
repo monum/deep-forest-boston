{
  "nbformat": 4,
  "nbformat_minor": 0,
  "metadata": {
    "colab": {
      "name": "DeepForest_single_Github_visualization_code.ipynb",
      "provenance": []
    },
    "kernelspec": {
      "name": "python3",
      "display_name": "Python 3"
    },
    "language_info": {
      "name": "python"
    },
    "widgets": {
      "application/vnd.jupyter.widget-state+json": {
        "06ecdfeb6b89416f9af9c0efcfa85bfb": {
          "model_module": "@jupyter-widgets/controls",
          "model_name": "HBoxModel",
          "model_module_version": "1.5.0",
          "state": {
            "_view_name": "HBoxView",
            "_dom_classes": [],
            "_model_name": "HBoxModel",
            "_view_module": "@jupyter-widgets/controls",
            "_model_module_version": "1.5.0",
            "_view_count": null,
            "_view_module_version": "1.5.0",
            "box_style": "",
            "layout": "IPY_MODEL_ef6b9f1c73e14a61951bd265bee5f6f7",
            "_model_module": "@jupyter-widgets/controls",
            "children": [
              "IPY_MODEL_808b0878a5f643fc9207a38f3fb93a9b",
              "IPY_MODEL_41860b4c34e24ce59cfa4b8f27e2d286",
              "IPY_MODEL_85e05df9c3404bc79c58e9b7f622fe6d"
            ]
          }
        },
        "ef6b9f1c73e14a61951bd265bee5f6f7": {
          "model_module": "@jupyter-widgets/base",
          "model_name": "LayoutModel",
          "model_module_version": "1.2.0",
          "state": {
            "_view_name": "LayoutView",
            "grid_template_rows": null,
            "right": null,
            "justify_content": null,
            "_view_module": "@jupyter-widgets/base",
            "overflow": null,
            "_model_module_version": "1.2.0",
            "_view_count": null,
            "flex_flow": null,
            "width": null,
            "min_width": null,
            "border": null,
            "align_items": null,
            "bottom": null,
            "_model_module": "@jupyter-widgets/base",
            "top": null,
            "grid_column": null,
            "overflow_y": null,
            "overflow_x": null,
            "grid_auto_flow": null,
            "grid_area": null,
            "grid_template_columns": null,
            "flex": null,
            "_model_name": "LayoutModel",
            "justify_items": null,
            "grid_row": null,
            "max_height": null,
            "align_content": null,
            "visibility": null,
            "align_self": null,
            "height": null,
            "min_height": null,
            "padding": null,
            "grid_auto_rows": null,
            "grid_gap": null,
            "max_width": null,
            "order": null,
            "_view_module_version": "1.2.0",
            "grid_template_areas": null,
            "object_position": null,
            "object_fit": null,
            "grid_auto_columns": null,
            "margin": null,
            "display": null,
            "left": null
          }
        },
        "808b0878a5f643fc9207a38f3fb93a9b": {
          "model_module": "@jupyter-widgets/controls",
          "model_name": "HTMLModel",
          "model_module_version": "1.5.0",
          "state": {
            "_view_name": "HTMLView",
            "style": "IPY_MODEL_e433277b9a1345658e5753da801a5a55",
            "_dom_classes": [],
            "description": "",
            "_model_name": "HTMLModel",
            "placeholder": "​",
            "_view_module": "@jupyter-widgets/controls",
            "_model_module_version": "1.5.0",
            "value": "100%",
            "_view_count": null,
            "_view_module_version": "1.5.0",
            "description_tooltip": null,
            "_model_module": "@jupyter-widgets/controls",
            "layout": "IPY_MODEL_1fb227bbeee64d698346a05b6699f21b"
          }
        },
        "41860b4c34e24ce59cfa4b8f27e2d286": {
          "model_module": "@jupyter-widgets/controls",
          "model_name": "FloatProgressModel",
          "model_module_version": "1.5.0",
          "state": {
            "_view_name": "ProgressView",
            "style": "IPY_MODEL_1303706a465848eca8f9f250aaeffba5",
            "_dom_classes": [],
            "description": "",
            "_model_name": "FloatProgressModel",
            "bar_style": "success",
            "max": 136595076,
            "_view_module": "@jupyter-widgets/controls",
            "_model_module_version": "1.5.0",
            "value": 136595076,
            "_view_count": null,
            "_view_module_version": "1.5.0",
            "orientation": "horizontal",
            "min": 0,
            "description_tooltip": null,
            "_model_module": "@jupyter-widgets/controls",
            "layout": "IPY_MODEL_a700aac807a749f78dd494e922fb5a10"
          }
        },
        "85e05df9c3404bc79c58e9b7f622fe6d": {
          "model_module": "@jupyter-widgets/controls",
          "model_name": "HTMLModel",
          "model_module_version": "1.5.0",
          "state": {
            "_view_name": "HTMLView",
            "style": "IPY_MODEL_da498015e4b24e26aab3a9e7055d130e",
            "_dom_classes": [],
            "description": "",
            "_model_name": "HTMLModel",
            "placeholder": "​",
            "_view_module": "@jupyter-widgets/controls",
            "_model_module_version": "1.5.0",
            "value": " 130M/130M [00:01&lt;00:00, 67.1MB/s]",
            "_view_count": null,
            "_view_module_version": "1.5.0",
            "description_tooltip": null,
            "_model_module": "@jupyter-widgets/controls",
            "layout": "IPY_MODEL_6e511eca08bd428c940f8cc204122321"
          }
        },
        "e433277b9a1345658e5753da801a5a55": {
          "model_module": "@jupyter-widgets/controls",
          "model_name": "DescriptionStyleModel",
          "model_module_version": "1.5.0",
          "state": {
            "_view_name": "StyleView",
            "_model_name": "DescriptionStyleModel",
            "description_width": "",
            "_view_module": "@jupyter-widgets/base",
            "_model_module_version": "1.5.0",
            "_view_count": null,
            "_view_module_version": "1.2.0",
            "_model_module": "@jupyter-widgets/controls"
          }
        },
        "1fb227bbeee64d698346a05b6699f21b": {
          "model_module": "@jupyter-widgets/base",
          "model_name": "LayoutModel",
          "model_module_version": "1.2.0",
          "state": {
            "_view_name": "LayoutView",
            "grid_template_rows": null,
            "right": null,
            "justify_content": null,
            "_view_module": "@jupyter-widgets/base",
            "overflow": null,
            "_model_module_version": "1.2.0",
            "_view_count": null,
            "flex_flow": null,
            "width": null,
            "min_width": null,
            "border": null,
            "align_items": null,
            "bottom": null,
            "_model_module": "@jupyter-widgets/base",
            "top": null,
            "grid_column": null,
            "overflow_y": null,
            "overflow_x": null,
            "grid_auto_flow": null,
            "grid_area": null,
            "grid_template_columns": null,
            "flex": null,
            "_model_name": "LayoutModel",
            "justify_items": null,
            "grid_row": null,
            "max_height": null,
            "align_content": null,
            "visibility": null,
            "align_self": null,
            "height": null,
            "min_height": null,
            "padding": null,
            "grid_auto_rows": null,
            "grid_gap": null,
            "max_width": null,
            "order": null,
            "_view_module_version": "1.2.0",
            "grid_template_areas": null,
            "object_position": null,
            "object_fit": null,
            "grid_auto_columns": null,
            "margin": null,
            "display": null,
            "left": null
          }
        },
        "1303706a465848eca8f9f250aaeffba5": {
          "model_module": "@jupyter-widgets/controls",
          "model_name": "ProgressStyleModel",
          "model_module_version": "1.5.0",
          "state": {
            "_view_name": "StyleView",
            "_model_name": "ProgressStyleModel",
            "description_width": "",
            "_view_module": "@jupyter-widgets/base",
            "_model_module_version": "1.5.0",
            "_view_count": null,
            "_view_module_version": "1.2.0",
            "bar_color": null,
            "_model_module": "@jupyter-widgets/controls"
          }
        },
        "a700aac807a749f78dd494e922fb5a10": {
          "model_module": "@jupyter-widgets/base",
          "model_name": "LayoutModel",
          "model_module_version": "1.2.0",
          "state": {
            "_view_name": "LayoutView",
            "grid_template_rows": null,
            "right": null,
            "justify_content": null,
            "_view_module": "@jupyter-widgets/base",
            "overflow": null,
            "_model_module_version": "1.2.0",
            "_view_count": null,
            "flex_flow": null,
            "width": null,
            "min_width": null,
            "border": null,
            "align_items": null,
            "bottom": null,
            "_model_module": "@jupyter-widgets/base",
            "top": null,
            "grid_column": null,
            "overflow_y": null,
            "overflow_x": null,
            "grid_auto_flow": null,
            "grid_area": null,
            "grid_template_columns": null,
            "flex": null,
            "_model_name": "LayoutModel",
            "justify_items": null,
            "grid_row": null,
            "max_height": null,
            "align_content": null,
            "visibility": null,
            "align_self": null,
            "height": null,
            "min_height": null,
            "padding": null,
            "grid_auto_rows": null,
            "grid_gap": null,
            "max_width": null,
            "order": null,
            "_view_module_version": "1.2.0",
            "grid_template_areas": null,
            "object_position": null,
            "object_fit": null,
            "grid_auto_columns": null,
            "margin": null,
            "display": null,
            "left": null
          }
        },
        "da498015e4b24e26aab3a9e7055d130e": {
          "model_module": "@jupyter-widgets/controls",
          "model_name": "DescriptionStyleModel",
          "model_module_version": "1.5.0",
          "state": {
            "_view_name": "StyleView",
            "_model_name": "DescriptionStyleModel",
            "description_width": "",
            "_view_module": "@jupyter-widgets/base",
            "_model_module_version": "1.5.0",
            "_view_count": null,
            "_view_module_version": "1.2.0",
            "_model_module": "@jupyter-widgets/controls"
          }
        },
        "6e511eca08bd428c940f8cc204122321": {
          "model_module": "@jupyter-widgets/base",
          "model_name": "LayoutModel",
          "model_module_version": "1.2.0",
          "state": {
            "_view_name": "LayoutView",
            "grid_template_rows": null,
            "right": null,
            "justify_content": null,
            "_view_module": "@jupyter-widgets/base",
            "overflow": null,
            "_model_module_version": "1.2.0",
            "_view_count": null,
            "flex_flow": null,
            "width": null,
            "min_width": null,
            "border": null,
            "align_items": null,
            "bottom": null,
            "_model_module": "@jupyter-widgets/base",
            "top": null,
            "grid_column": null,
            "overflow_y": null,
            "overflow_x": null,
            "grid_auto_flow": null,
            "grid_area": null,
            "grid_template_columns": null,
            "flex": null,
            "_model_name": "LayoutModel",
            "justify_items": null,
            "grid_row": null,
            "max_height": null,
            "align_content": null,
            "visibility": null,
            "align_self": null,
            "height": null,
            "min_height": null,
            "padding": null,
            "grid_auto_rows": null,
            "grid_gap": null,
            "max_width": null,
            "order": null,
            "_view_module_version": "1.2.0",
            "grid_template_areas": null,
            "object_position": null,
            "object_fit": null,
            "grid_auto_columns": null,
            "margin": null,
            "display": null,
            "left": null
          }
        }
      }
    }
  },
  "cells": [
    {
      "cell_type": "markdown",
      "metadata": {
        "id": "qRyVE-4dFt9k"
      },
      "source": [
        "#DeepForest Training Walkthrough(CPU/GPU)\n",
        "  - For GPU implementation.\n",
        "      1. Select **Runtime** > Change **runtime type** and Select GPU as Hardware accelerator."
      ]
    },
    {
      "cell_type": "code",
      "metadata": {
        "colab": {
          "base_uri": "https://localhost:8080/"
        },
        "id": "PVV_o5lDF2Qw",
        "outputId": "592fc620-1483-4901-9096-bd2eda937e23"
      },
      "source": [
        "#installing deepforest (Different from original as this gives ability to vary thickness of predictions)\n",
        "! pip install git+https://github.com/weecology/deepforest.git@refs/pull/240/head\n",
        "\n",
        "\n",
        "# you can simply use pip install deepforest i used beacause you can find explaination on this link = https://github.com/weecology/DeepForest/issues/239\n",
        "\n",
        "\n",
        "!pip install albumentations==0.4.6\n",
        "import albumentations \n",
        "\n",
        "\n",
        "from albumentations.pytorch import ToTensorV2"
      ],
      "execution_count": 7,
      "outputs": [
        {
          "output_type": "stream",
          "text": [
            "Collecting git+https://github.com/weecology/deepforest.git@refs/pull/240/head\n",
            "  Cloning https://github.com/weecology/deepforest.git (to revision refs/pull/240/head) to /tmp/pip-req-build-rvu5jlyt\n",
            "  Running command git clone -q https://github.com/weecology/deepforest.git /tmp/pip-req-build-rvu5jlyt\n",
            "\u001b[33m  WARNING: Did not find branch or tag 'refs/pull/240/head', assuming revision or ref.\u001b[0m\n",
            "  Running command git fetch -q https://github.com/weecology/deepforest.git refs/pull/240/head\n",
            "  Running command git checkout -q a66f0fe05edcba4732c2be005e4b4478fbbac9a6\n",
            "Requirement already satisfied: torch in /usr/local/lib/python3.7/dist-packages (from deepforest==1.1.0) (1.9.0+cu102)\n",
            "Requirement already satisfied: torchvision>0.9.0 in /usr/local/lib/python3.7/dist-packages (from deepforest==1.1.0) (0.10.0+cu102)\n",
            "Requirement already satisfied: matplotlib in /usr/local/lib/python3.7/dist-packages (from deepforest==1.1.0) (3.2.2)\n",
            "Requirement already satisfied: Pillow>6.2.0 in /usr/local/lib/python3.7/dist-packages (from deepforest==1.1.0) (7.1.2)\n",
            "Requirement already satisfied: pandas in /usr/local/lib/python3.7/dist-packages (from deepforest==1.1.0) (1.1.5)\n",
            "Requirement already satisfied: progressbar2 in /usr/local/lib/python3.7/dist-packages (from deepforest==1.1.0) (3.38.0)\n",
            "Requirement already satisfied: six in /usr/local/lib/python3.7/dist-packages (from deepforest==1.1.0) (1.15.0)\n",
            "Requirement already satisfied: scipy>1.5 in /usr/local/lib/python3.7/dist-packages (from deepforest==1.1.0) (1.7.1)\n",
            "Requirement already satisfied: slidingwindow in /usr/local/lib/python3.7/dist-packages (from deepforest==1.1.0) (0.0.14)\n",
            "Requirement already satisfied: geopandas in /usr/local/lib/python3.7/dist-packages (from deepforest==1.1.0) (0.9.0)\n",
            "Requirement already satisfied: rasterio in /usr/local/lib/python3.7/dist-packages (from deepforest==1.1.0) (1.2.6)\n",
            "Requirement already satisfied: rtree in /usr/local/lib/python3.7/dist-packages (from deepforest==1.1.0) (0.9.7)\n",
            "Requirement already satisfied: pytorch_lightning in /usr/local/lib/python3.7/dist-packages (from deepforest==1.1.0) (1.4.2)\n",
            "Requirement already satisfied: tqdm in /usr/local/lib/python3.7/dist-packages (from deepforest==1.1.0) (4.62.0)\n",
            "Requirement already satisfied: xmltodict in /usr/local/lib/python3.7/dist-packages (from deepforest==1.1.0) (0.12.0)\n",
            "Requirement already satisfied: numpy in /usr/local/lib/python3.7/dist-packages (from deepforest==1.1.0) (1.19.5)\n",
            "Requirement already satisfied: imagecodecs in /usr/local/lib/python3.7/dist-packages (from deepforest==1.1.0) (2021.7.30)\n",
            "Requirement already satisfied: albumentations in /usr/local/lib/python3.7/dist-packages (from deepforest==1.1.0) (0.4.6)\n",
            "Requirement already satisfied: typing-extensions in /usr/local/lib/python3.7/dist-packages (from torch->deepforest==1.1.0) (3.7.4.3)\n",
            "Requirement already satisfied: imgaug>=0.4.0 in /usr/local/lib/python3.7/dist-packages (from albumentations->deepforest==1.1.0) (0.4.0)\n",
            "Requirement already satisfied: PyYAML in /usr/local/lib/python3.7/dist-packages (from albumentations->deepforest==1.1.0) (5.4.1)\n",
            "Requirement already satisfied: opencv-python>=4.1.1 in /usr/local/lib/python3.7/dist-packages (from albumentations->deepforest==1.1.0) (4.1.2.30)\n",
            "Requirement already satisfied: scikit-image>=0.14.2 in /usr/local/lib/python3.7/dist-packages (from imgaug>=0.4.0->albumentations->deepforest==1.1.0) (0.16.2)\n",
            "Requirement already satisfied: Shapely in /usr/local/lib/python3.7/dist-packages (from imgaug>=0.4.0->albumentations->deepforest==1.1.0) (1.7.1)\n",
            "Requirement already satisfied: imageio in /usr/local/lib/python3.7/dist-packages (from imgaug>=0.4.0->albumentations->deepforest==1.1.0) (2.4.1)\n",
            "Requirement already satisfied: networkx>=2.0 in /usr/local/lib/python3.7/dist-packages (from scikit-image>=0.14.2->imgaug>=0.4.0->albumentations->deepforest==1.1.0) (2.6.2)\n",
            "Requirement already satisfied: PyWavelets>=0.4.0 in /usr/local/lib/python3.7/dist-packages (from scikit-image>=0.14.2->imgaug>=0.4.0->albumentations->deepforest==1.1.0) (1.1.1)\n",
            "Requirement already satisfied: kiwisolver>=1.0.1 in /usr/local/lib/python3.7/dist-packages (from matplotlib->deepforest==1.1.0) (1.3.1)\n",
            "Requirement already satisfied: python-dateutil>=2.1 in /usr/local/lib/python3.7/dist-packages (from matplotlib->deepforest==1.1.0) (2.8.2)\n",
            "Requirement already satisfied: pyparsing!=2.0.4,!=2.1.2,!=2.1.6,>=2.0.1 in /usr/local/lib/python3.7/dist-packages (from matplotlib->deepforest==1.1.0) (2.4.7)\n",
            "Requirement already satisfied: cycler>=0.10 in /usr/local/lib/python3.7/dist-packages (from matplotlib->deepforest==1.1.0) (0.10.0)\n",
            "Requirement already satisfied: pyproj>=2.2.0 in /usr/local/lib/python3.7/dist-packages (from geopandas->deepforest==1.1.0) (3.1.0)\n",
            "Requirement already satisfied: fiona>=1.8 in /usr/local/lib/python3.7/dist-packages (from geopandas->deepforest==1.1.0) (1.8.20)\n",
            "Requirement already satisfied: click-plugins>=1.0 in /usr/local/lib/python3.7/dist-packages (from fiona>=1.8->geopandas->deepforest==1.1.0) (1.1.1)\n",
            "Requirement already satisfied: cligj>=0.5 in /usr/local/lib/python3.7/dist-packages (from fiona>=1.8->geopandas->deepforest==1.1.0) (0.7.2)\n",
            "Requirement already satisfied: click>=4.0 in /usr/local/lib/python3.7/dist-packages (from fiona>=1.8->geopandas->deepforest==1.1.0) (7.1.2)\n",
            "Requirement already satisfied: attrs>=17 in /usr/local/lib/python3.7/dist-packages (from fiona>=1.8->geopandas->deepforest==1.1.0) (21.2.0)\n",
            "Requirement already satisfied: setuptools in /usr/local/lib/python3.7/dist-packages (from fiona>=1.8->geopandas->deepforest==1.1.0) (57.4.0)\n",
            "Requirement already satisfied: certifi in /usr/local/lib/python3.7/dist-packages (from fiona>=1.8->geopandas->deepforest==1.1.0) (2021.5.30)\n",
            "Requirement already satisfied: munch in /usr/local/lib/python3.7/dist-packages (from fiona>=1.8->geopandas->deepforest==1.1.0) (2.5.0)\n",
            "Requirement already satisfied: pytz>=2017.2 in /usr/local/lib/python3.7/dist-packages (from pandas->deepforest==1.1.0) (2018.9)\n",
            "Requirement already satisfied: python-utils>=2.3.0 in /usr/local/lib/python3.7/dist-packages (from progressbar2->deepforest==1.1.0) (2.5.6)\n",
            "Requirement already satisfied: pyDeprecate==0.3.1 in /usr/local/lib/python3.7/dist-packages (from pytorch_lightning->deepforest==1.1.0) (0.3.1)\n",
            "Requirement already satisfied: torchmetrics>=0.4.0 in /usr/local/lib/python3.7/dist-packages (from pytorch_lightning->deepforest==1.1.0) (0.5.0)\n",
            "Requirement already satisfied: future>=0.17.1 in /usr/local/lib/python3.7/dist-packages (from pytorch_lightning->deepforest==1.1.0) (0.18.2)\n",
            "Requirement already satisfied: packaging>=17.0 in /usr/local/lib/python3.7/dist-packages (from pytorch_lightning->deepforest==1.1.0) (21.0)\n",
            "Requirement already satisfied: fsspec[http]!=2021.06.0,>=2021.05.0 in /usr/local/lib/python3.7/dist-packages (from pytorch_lightning->deepforest==1.1.0) (2021.7.0)\n",
            "Requirement already satisfied: tensorboard>=2.2.0 in /usr/local/lib/python3.7/dist-packages (from pytorch_lightning->deepforest==1.1.0) (2.6.0)\n",
            "Requirement already satisfied: aiohttp in /usr/local/lib/python3.7/dist-packages (from fsspec[http]!=2021.06.0,>=2021.05.0->pytorch_lightning->deepforest==1.1.0) (3.7.4.post0)\n",
            "Requirement already satisfied: requests in /usr/local/lib/python3.7/dist-packages (from fsspec[http]!=2021.06.0,>=2021.05.0->pytorch_lightning->deepforest==1.1.0) (2.23.0)\n",
            "Requirement already satisfied: markdown>=2.6.8 in /usr/local/lib/python3.7/dist-packages (from tensorboard>=2.2.0->pytorch_lightning->deepforest==1.1.0) (3.3.4)\n",
            "Requirement already satisfied: protobuf>=3.6.0 in /usr/local/lib/python3.7/dist-packages (from tensorboard>=2.2.0->pytorch_lightning->deepforest==1.1.0) (3.17.3)\n",
            "Requirement already satisfied: wheel>=0.26 in /usr/local/lib/python3.7/dist-packages (from tensorboard>=2.2.0->pytorch_lightning->deepforest==1.1.0) (0.37.0)\n",
            "Requirement already satisfied: werkzeug>=0.11.15 in /usr/local/lib/python3.7/dist-packages (from tensorboard>=2.2.0->pytorch_lightning->deepforest==1.1.0) (1.0.1)\n",
            "Requirement already satisfied: google-auth-oauthlib<0.5,>=0.4.1 in /usr/local/lib/python3.7/dist-packages (from tensorboard>=2.2.0->pytorch_lightning->deepforest==1.1.0) (0.4.5)\n",
            "Requirement already satisfied: grpcio>=1.24.3 in /usr/local/lib/python3.7/dist-packages (from tensorboard>=2.2.0->pytorch_lightning->deepforest==1.1.0) (1.39.0)\n",
            "Requirement already satisfied: google-auth<2,>=1.6.3 in /usr/local/lib/python3.7/dist-packages (from tensorboard>=2.2.0->pytorch_lightning->deepforest==1.1.0) (1.34.0)\n",
            "Requirement already satisfied: absl-py>=0.4 in /usr/local/lib/python3.7/dist-packages (from tensorboard>=2.2.0->pytorch_lightning->deepforest==1.1.0) (0.12.0)\n",
            "Requirement already satisfied: tensorboard-plugin-wit>=1.6.0 in /usr/local/lib/python3.7/dist-packages (from tensorboard>=2.2.0->pytorch_lightning->deepforest==1.1.0) (1.8.0)\n",
            "Requirement already satisfied: tensorboard-data-server<0.7.0,>=0.6.0 in /usr/local/lib/python3.7/dist-packages (from tensorboard>=2.2.0->pytorch_lightning->deepforest==1.1.0) (0.6.1)\n",
            "Requirement already satisfied: rsa<5,>=3.1.4 in /usr/local/lib/python3.7/dist-packages (from google-auth<2,>=1.6.3->tensorboard>=2.2.0->pytorch_lightning->deepforest==1.1.0) (4.7.2)\n",
            "Requirement already satisfied: cachetools<5.0,>=2.0.0 in /usr/local/lib/python3.7/dist-packages (from google-auth<2,>=1.6.3->tensorboard>=2.2.0->pytorch_lightning->deepforest==1.1.0) (4.2.2)\n",
            "Requirement already satisfied: pyasn1-modules>=0.2.1 in /usr/local/lib/python3.7/dist-packages (from google-auth<2,>=1.6.3->tensorboard>=2.2.0->pytorch_lightning->deepforest==1.1.0) (0.2.8)\n",
            "Requirement already satisfied: requests-oauthlib>=0.7.0 in /usr/local/lib/python3.7/dist-packages (from google-auth-oauthlib<0.5,>=0.4.1->tensorboard>=2.2.0->pytorch_lightning->deepforest==1.1.0) (1.3.0)\n",
            "Requirement already satisfied: importlib-metadata in /usr/local/lib/python3.7/dist-packages (from markdown>=2.6.8->tensorboard>=2.2.0->pytorch_lightning->deepforest==1.1.0) (4.6.3)\n",
            "Requirement already satisfied: pyasn1<0.5.0,>=0.4.6 in /usr/local/lib/python3.7/dist-packages (from pyasn1-modules>=0.2.1->google-auth<2,>=1.6.3->tensorboard>=2.2.0->pytorch_lightning->deepforest==1.1.0) (0.4.8)\n",
            "Requirement already satisfied: chardet<4,>=3.0.2 in /usr/local/lib/python3.7/dist-packages (from requests->fsspec[http]!=2021.06.0,>=2021.05.0->pytorch_lightning->deepforest==1.1.0) (3.0.4)\n",
            "Requirement already satisfied: idna<3,>=2.5 in /usr/local/lib/python3.7/dist-packages (from requests->fsspec[http]!=2021.06.0,>=2021.05.0->pytorch_lightning->deepforest==1.1.0) (2.10)\n",
            "Requirement already satisfied: urllib3!=1.25.0,!=1.25.1,<1.26,>=1.21.1 in /usr/local/lib/python3.7/dist-packages (from requests->fsspec[http]!=2021.06.0,>=2021.05.0->pytorch_lightning->deepforest==1.1.0) (1.24.3)\n",
            "Requirement already satisfied: oauthlib>=3.0.0 in /usr/local/lib/python3.7/dist-packages (from requests-oauthlib>=0.7.0->google-auth-oauthlib<0.5,>=0.4.1->tensorboard>=2.2.0->pytorch_lightning->deepforest==1.1.0) (3.1.1)\n",
            "Requirement already satisfied: yarl<2.0,>=1.0 in /usr/local/lib/python3.7/dist-packages (from aiohttp->fsspec[http]!=2021.06.0,>=2021.05.0->pytorch_lightning->deepforest==1.1.0) (1.6.3)\n",
            "Requirement already satisfied: async-timeout<4.0,>=3.0 in /usr/local/lib/python3.7/dist-packages (from aiohttp->fsspec[http]!=2021.06.0,>=2021.05.0->pytorch_lightning->deepforest==1.1.0) (3.0.1)\n",
            "Requirement already satisfied: multidict<7.0,>=4.5 in /usr/local/lib/python3.7/dist-packages (from aiohttp->fsspec[http]!=2021.06.0,>=2021.05.0->pytorch_lightning->deepforest==1.1.0) (5.1.0)\n",
            "Requirement already satisfied: zipp>=0.5 in /usr/local/lib/python3.7/dist-packages (from importlib-metadata->markdown>=2.6.8->tensorboard>=2.2.0->pytorch_lightning->deepforest==1.1.0) (3.5.0)\n",
            "Requirement already satisfied: snuggs>=1.4.1 in /usr/local/lib/python3.7/dist-packages (from rasterio->deepforest==1.1.0) (1.4.7)\n",
            "Requirement already satisfied: affine in /usr/local/lib/python3.7/dist-packages (from rasterio->deepforest==1.1.0) (2.3.0)\n",
            "Requirement already satisfied: psutil in /usr/local/lib/python3.7/dist-packages (from slidingwindow->deepforest==1.1.0) (5.4.8)\n",
            "Requirement already satisfied: albumentations==0.4.6 in /usr/local/lib/python3.7/dist-packages (0.4.6)\n",
            "Requirement already satisfied: PyYAML in /usr/local/lib/python3.7/dist-packages (from albumentations==0.4.6) (5.4.1)\n",
            "Requirement already satisfied: opencv-python>=4.1.1 in /usr/local/lib/python3.7/dist-packages (from albumentations==0.4.6) (4.1.2.30)\n",
            "Requirement already satisfied: numpy>=1.11.1 in /usr/local/lib/python3.7/dist-packages (from albumentations==0.4.6) (1.19.5)\n",
            "Requirement already satisfied: scipy in /usr/local/lib/python3.7/dist-packages (from albumentations==0.4.6) (1.7.1)\n",
            "Requirement already satisfied: imgaug>=0.4.0 in /usr/local/lib/python3.7/dist-packages (from albumentations==0.4.6) (0.4.0)\n",
            "Requirement already satisfied: Shapely in /usr/local/lib/python3.7/dist-packages (from imgaug>=0.4.0->albumentations==0.4.6) (1.7.1)\n",
            "Requirement already satisfied: Pillow in /usr/local/lib/python3.7/dist-packages (from imgaug>=0.4.0->albumentations==0.4.6) (7.1.2)\n",
            "Requirement already satisfied: scikit-image>=0.14.2 in /usr/local/lib/python3.7/dist-packages (from imgaug>=0.4.0->albumentations==0.4.6) (0.16.2)\n",
            "Requirement already satisfied: six in /usr/local/lib/python3.7/dist-packages (from imgaug>=0.4.0->albumentations==0.4.6) (1.15.0)\n",
            "Requirement already satisfied: matplotlib in /usr/local/lib/python3.7/dist-packages (from imgaug>=0.4.0->albumentations==0.4.6) (3.2.2)\n",
            "Requirement already satisfied: imageio in /usr/local/lib/python3.7/dist-packages (from imgaug>=0.4.0->albumentations==0.4.6) (2.4.1)\n",
            "Requirement already satisfied: PyWavelets>=0.4.0 in /usr/local/lib/python3.7/dist-packages (from scikit-image>=0.14.2->imgaug>=0.4.0->albumentations==0.4.6) (1.1.1)\n",
            "Requirement already satisfied: networkx>=2.0 in /usr/local/lib/python3.7/dist-packages (from scikit-image>=0.14.2->imgaug>=0.4.0->albumentations==0.4.6) (2.6.2)\n",
            "Requirement already satisfied: kiwisolver>=1.0.1 in /usr/local/lib/python3.7/dist-packages (from matplotlib->imgaug>=0.4.0->albumentations==0.4.6) (1.3.1)\n",
            "Requirement already satisfied: python-dateutil>=2.1 in /usr/local/lib/python3.7/dist-packages (from matplotlib->imgaug>=0.4.0->albumentations==0.4.6) (2.8.2)\n",
            "Requirement already satisfied: pyparsing!=2.0.4,!=2.1.2,!=2.1.6,>=2.0.1 in /usr/local/lib/python3.7/dist-packages (from matplotlib->imgaug>=0.4.0->albumentations==0.4.6) (2.4.7)\n",
            "Requirement already satisfied: cycler>=0.10 in /usr/local/lib/python3.7/dist-packages (from matplotlib->imgaug>=0.4.0->albumentations==0.4.6) (0.10.0)\n"
          ],
          "name": "stdout"
        }
      ]
    },
    {
      "cell_type": "markdown",
      "metadata": {
        "id": "-pQ-mxEFDaCP"
      },
      "source": [
        "# DeepForest Import "
      ]
    },
    {
      "cell_type": "code",
      "metadata": {
        "colab": {
          "base_uri": "https://localhost:8080/",
          "height": 175,
          "referenced_widgets": [
            "06ecdfeb6b89416f9af9c0efcfa85bfb",
            "ef6b9f1c73e14a61951bd265bee5f6f7",
            "808b0878a5f643fc9207a38f3fb93a9b",
            "41860b4c34e24ce59cfa4b8f27e2d286",
            "85e05df9c3404bc79c58e9b7f622fe6d",
            "e433277b9a1345658e5753da801a5a55",
            "1fb227bbeee64d698346a05b6699f21b",
            "1303706a465848eca8f9f250aaeffba5",
            "a700aac807a749f78dd494e922fb5a10",
            "da498015e4b24e26aab3a9e7055d130e",
            "6e511eca08bd428c940f8cc204122321"
          ]
        },
        "id": "Ivdbp6a1DZTU",
        "outputId": "58b0c1f8-bc76-42e6-ac80-2c63084a65ec"
      },
      "source": [
        "#load the modules\n",
        "import os\n",
        "import time\n",
        "import numpy as np\n",
        "from deepforest import main \n",
        "from deepforest import get_data\n",
        "from deepforest import utilities\n",
        "from deepforest import preprocess\n",
        "\n",
        "from deepforest import main\n",
        "from deepforest import get_data\n",
        "import os\n",
        "import matplotlib.pyplot as plt\n",
        "model = main.deepforest()\n",
        "model.use_release()\n"
      ],
      "execution_count": 5,
      "outputs": [
        {
          "output_type": "stream",
          "text": [
            "Reading config file: /usr/local/lib/python3.7/dist-packages/deepforest/data/deepforest_config.yml\n"
          ],
          "name": "stdout"
        },
        {
          "output_type": "stream",
          "text": [
            "Downloading: \"https://download.pytorch.org/models/retinanet_resnet50_fpn_coco-eeacb38b.pth\" to /root/.cache/torch/hub/checkpoints/retinanet_resnet50_fpn_coco-eeacb38b.pth\n"
          ],
          "name": "stderr"
        },
        {
          "output_type": "display_data",
          "data": {
            "application/vnd.jupyter.widget-view+json": {
              "model_id": "06ecdfeb6b89416f9af9c0efcfa85bfb",
              "version_minor": 0,
              "version_major": 2
            },
            "text/plain": [
              "  0%|          | 0.00/130M [00:00<?, ?B/s]"
            ]
          },
          "metadata": {
            "tags": []
          }
        },
        {
          "output_type": "stream",
          "text": [
            "Downloading model from DeepForest release 1.0.0, see https://github.com/weecology/DeepForest/releases/tag/1.0.0 for details\n"
          ],
          "name": "stdout"
        },
        {
          "output_type": "stream",
          "text": [
            "NEON.pt: 129MB [00:02, 48.4MB/s]                           \n"
          ],
          "name": "stderr"
        },
        {
          "output_type": "stream",
          "text": [
            "Model was downloaded and saved to /usr/local/lib/python3.7/dist-packages/deepforest/data/NEON.pt\n",
            "Loading pre-built model: https://github.com/weecology/DeepForest/releases/tag/1.0.0\n"
          ],
          "name": "stdout"
        }
      ]
    },
    {
      "cell_type": "markdown",
      "metadata": {
        "id": "TvhYWqOiHcZf"
      },
      "source": [
        "# Loading Custom trained model (Model which trained on boston specific dataset)"
      ]
    },
    {
      "cell_type": "code",
      "metadata": {
        "id": "_cnM6c_JHlQn"
      },
      "source": [
        "#load the save model, trained on boston dataset\n",
        "import torch\n",
        "model = main.deepforest()\n",
        "model_path='/content/drive/MyDrive/GSoC 2021 Final/70epchs.pth'  #path to pretrained model \n",
        "model.model.load_state_dict(torch.load(model_path))"
      ],
      "execution_count": null,
      "outputs": []
    },
    {
      "cell_type": "markdown",
      "metadata": {
        "id": "3zl1YBnaHpKm"
      },
      "source": [
        "If you have large tile lets assume 22k * 22k then you cannot predict on entire large file hence we made patches of that large file and then run our DeepForest model over that patches. "
      ]
    },
    {
      "cell_type": "markdown",
      "metadata": {
        "id": "kFH6UHsqH4xn"
      },
      "source": [
        "Next cell contain code for making patches and saving those patches over drive"
      ]
    },
    {
      "cell_type": "code",
      "metadata": {
        "id": "RxQuUN5FHmJ9"
      },
      "source": [
        "from osgeo import gdal\n",
        "from osgeo.gdalconst import *\n",
        "import numpy as np\n",
        "\n",
        "import osgeo.gdalnumeric as gdn\n",
        "import matplotlib.pyplot as plt"
      ],
      "execution_count": null,
      "outputs": []
    },
    {
      "cell_type": "code",
      "metadata": {
        "id": "Sj8DLBc8IDr0"
      },
      "source": [
        "import os, sys\n",
        "from osgeo import gdal\n",
        "#inpath is where the bigger TIFF file is stored\n",
        "#outpath where we will be saving clipped smaller tiles\n",
        "inpath=\"/content/drive/MyDrive/data/Data/Copy of Boston_MA_Nearmap_Summer20_154.tif\"\n",
        "outpath=\"/content/drive/MyDrive/data/tiles154/\"\n",
        "dset = gdal.Open(inpath)\n",
        "\n",
        "width = dset.RasterXSize\n",
        "height = dset.RasterYSize\n",
        "\n",
        "tilesize = 3000 #this tile size is user defined you need to perform multiple iteration to understand which patch size will be better for your particular dataset. patch size will depend on various factors such as Ground truth Resoultion .\n",
        "\n",
        "print(dset)"
      ],
      "execution_count": null,
      "outputs": []
    },
    {
      "cell_type": "code",
      "metadata": {
        "id": "Rsf5k2moIElK"
      },
      "source": [
        "#To split a larger tile, into smaller tiles of size specified above\n",
        "for i in range(0, width, tilesize):\n",
        "    for j in range(0, height, tilesize):\n",
        "        w = min(i+tilesize, width) - i\n",
        "        h = min(j+tilesize, height) - j\n",
        "        gdaltranString = \"gdal_translate -of GTIFF -srcwin \"+str(i)+\", \"+str(j)+\", \"+str(w)+\", \" \\\n",
        "            +str(h)+\" \" + str(inpath) + \" \" + str(outpath) + 'tile_'+ \"_\"+str(i)+\"_\"+str(j)+\".tif\"\n",
        "        os.system(gdaltranString)"
      ],
      "execution_count": null,
      "outputs": []
    },
    {
      "cell_type": "markdown",
      "metadata": {
        "id": "K4JjDY_GDZjU"
      },
      "source": [
        "# Predictions"
      ]
    },
    {
      "cell_type": "markdown",
      "metadata": {
        "id": "uq2bxBVvIc-q"
      },
      "source": [
        "This is code to predict canopies over 3000 * 3000 patches. This is iterative code as our original dataset consist of 22000 * 22000 patch and we made its patches of 3000 * 3000 . And we did predictions on all patches hence we write iterative code to get predictions over all patches. You can use this code for single patch also.\n"
      ]
    },
    {
      "cell_type": "code",
      "metadata": {
        "id": "CR3EuMEdIZXr"
      },
      "source": [
        "#Read the clipped images(samller tiles) from the directory\n",
        "directory=outpath[:-1]\n",
        "fic=0\n",
        "i=0\n",
        "from osgeo import gdal\n",
        "from osgeo import ogr\n",
        "from osgeo import osr\n",
        "import pandas as pd\n",
        "df = pd.DataFrame(columns = ['treecount',    'filename'  , 'location', 'lat', 'long' ])\n",
        "\n",
        "for filename in os.listdir(directory):\n",
        "            if filename.endswith(\".tif\") : #or filename.endswith(\".png\")\n",
        "                \n",
        "                filep = str(os.path.join(directory, filename))\n",
        "                \n",
        "\n",
        "\n",
        "                \n",
        "                inpath=filep\n",
        "                dset = gdal.Open(inpath)\n",
        "                if (dset.RasterXSize >=3000 and dset.RasterYSize >=3000):\n",
        "                  print(\"Corresponding tile/filename:\",filename)\n",
        "                  img = model.predict_image(path=filep,return_plot=True, color=(0, 0, 200), thickness=5)\n",
        "                  box= model.predict_image(path=filep,return_plot=False)\n",
        "\n",
        "                  fic = fic + 1\n",
        "                  plt.figure(figsize=(8,8))\n",
        "                  plt.imshow(img[:,:,::-1])\n",
        "                  plt.show()\n",
        "\n",
        "                  treecounttm=box.shape[0]\n",
        "\n",
        "                  \n",
        "                  #dataframe creation\n",
        "                  src = gdal.Open(filep)\n",
        "                  ulx, xres, xskew, uly, yskew, yres  = src.GetGeoTransform()\n",
        "                  lrx = ulx + (src.RasterXSize * xres)\n",
        "                  lry = uly + (src.RasterYSize * yres)\n",
        "                  # print(lrx,lry,ulx,uly)\n",
        "                  mpx=0.5*(lrx+ulx)\n",
        "                  mpy=0.5*(lry+uly)\n",
        "\n",
        "\n",
        "                  # Setup the source projection - you can also import from epsg, proj4...\n",
        "                  source = osr.SpatialReference()\n",
        "                  source.ImportFromWkt(src.GetProjection())\n",
        "\n",
        "                  # The target projection\n",
        "                  target = osr.SpatialReference()\n",
        "                  target.ImportFromEPSG(4326)\n",
        "\n",
        "                  # Create the transform - this can be used repeatedly\n",
        "                  transform = osr.CoordinateTransformation(source, target)\n",
        "\n",
        "                  # Transform the point. You can also create an ogr geometry and use the more generic `point.Transform()`\n",
        "                  latlong=transform.TransformPoint(mpx, mpy)\n",
        "                  # print(latlong)\n",
        "                  print(f\"Canopies detected according to trained model {treecounttm} and correspond to tile with latitude and longitude {latlong[1]} , {latlong[0]}\")\n",
        "\n",
        "\n",
        "\n",
        "                  location=[latlong[1], latlong[0]]\n",
        "                  df.loc[i] = [treecounttm, filename, location, latlong[1],latlong[0]]             \n",
        "\n",
        "\n",
        "\n",
        "                  i=i+1\n",
        "                  print(\" \")\n",
        "\n",
        "\n",
        "print(\"END\")\n",
        "\n"
      ],
      "execution_count": null,
      "outputs": []
    },
    {
      "cell_type": "markdown",
      "metadata": {
        "id": "yfzyWtfMJAEz"
      },
      "source": [
        "# Visualization over"
      ]
    },
    {
      "cell_type": "markdown",
      "metadata": {
        "id": "QChoMXN7Js3Z"
      },
      "source": [
        "This visuzation only possible when you are having Geotiff files as input beacause we are using here location information from Geotiff file for doing visulaization over Google maps.\n"
      ]
    },
    {
      "cell_type": "code",
      "metadata": {
        "id": "ogb_csDJJsHe"
      },
      "source": [
        ""
      ],
      "execution_count": null,
      "outputs": []
    },
    {
      "cell_type": "code",
      "metadata": {
        "id": "srEsgZYbI_np"
      },
      "source": [
        "#export predictions to CSV for a tile\n",
        "df.to_csv('/content/'+'predictionsfortile.csv')"
      ],
      "execution_count": null,
      "outputs": []
    },
    {
      "cell_type": "code",
      "metadata": {
        "id": "WMKtK2apJVN0"
      },
      "source": [
        "!pip install rasterio\n",
        "import rasterio\n",
        "\n",
        "from osgeo import gdal\n",
        "\n",
        "# Import necessary packages\n",
        "import os \n",
        "import folium\n",
        "from folium import plugins\n",
        "\n",
        "location=df['location'][int(len(df)*0.5)]\n",
        "print(location)"
      ],
      "execution_count": null,
      "outputs": []
    },
    {
      "cell_type": "code",
      "metadata": {
        "id": "-YTrQkxrJeo5"
      },
      "source": [
        "randomtile=location"
      ],
      "execution_count": null,
      "outputs": []
    },
    {
      "cell_type": "code",
      "metadata": {
        "id": "CPc6F-DCJg69"
      },
      "source": [
        "map_osm = folium.Map(\n",
        "    location = randomtile,\n",
        "    zoom_start = 12\n",
        ")\n",
        "\n"
      ],
      "execution_count": null,
      "outputs": []
    },
    {
      "cell_type": "code",
      "metadata": {
        "id": "NKdHQXPKJor2"
      },
      "source": [
        "#Mark the points in Map\n",
        "for indice, row in df.iterrows():\n",
        "  # print(row[\"lat\"], row[\"long\"])\n",
        "  folium.Marker(\n",
        "      location=[row[\"lat\"], row[\"long\"]],\n",
        "      popup=folium.Popup(str(row['filename']+str('=')+str(row[\"treecount\"])),show=True)\n",
        "  ).add_to(map_osm)\n",
        "\n",
        "# print(row[\"lat\"], row[\"long\"])\n",
        "map_osm"
      ],
      "execution_count": null,
      "outputs": []
    }
  ]
}