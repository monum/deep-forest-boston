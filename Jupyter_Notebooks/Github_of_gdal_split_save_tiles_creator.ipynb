{
  "nbformat": 4,
  "nbformat_minor": 0,
  "metadata": {
    "colab": {
      "name": "Github of gdal_split_save_tiles_creator.ipynb",
      "provenance": [],
      "collapsed_sections": []
    },
    "kernelspec": {
      "name": "python3",
      "display_name": "Python 3"
    },
    "language_info": {
      "name": "python"
    }
  },
  "cells": [
    {
      "cell_type": "markdown",
      "metadata": {
        "id": "MbhHjQwje33Y"
      },
      "source": [
        "# Split raster into smaller tiles"
      ]
    },
    {
      "cell_type": "code",
      "metadata": {
        "id": "GN4mGve6_tcD"
      },
      "source": [
        "#load required libraries\n",
        "from osgeo import gdal\n",
        "from osgeo.gdalconst import *\n",
        "import numpy as np\n",
        "import os, sys\n",
        "import osgeo.gdalnumeric as gdn\n",
        "import matplotlib.pyplot as plt\n"
      ],
      "execution_count": null,
      "outputs": []
    },
    {
      "cell_type": "code",
      "metadata": {
        "colab": {
          "base_uri": "https://localhost:8080/"
        },
        "id": "bbT-lU924PP4",
        "outputId": "7db029ac-e150-480b-bafd-b1d1bf901590"
      },
      "source": [
        "#Mounting google drive\n",
        "from google.colab import drive\n",
        "drive.mount('/content/drive')"
      ],
      "execution_count": null,
      "outputs": [
        {
          "output_type": "stream",
          "text": [
            "Mounted at /content/drive\n"
          ],
          "name": "stdout"
        }
      ]
    },
    {
      "cell_type": "code",
      "metadata": {
        "id": "SkMYVSNuCuQh",
        "colab": {
          "base_uri": "https://localhost:8080/"
        },
        "outputId": "daab5a2f-9726-4f1d-8e54-977f242e57c1"
      },
      "source": [
        "#inpath is the path to original raster, which needs to be divided into smaller tiles\n",
        "#outpath is the path to folder where you want to save the divided smaller tiles.\n",
        "\n",
        "inpath=\"/content/drive/MyDrive/data/orginal_large.tiff\" \n",
        "outpath=\"/content/drive/MyDrive/output_folder/\"\n",
        "dset = gdal.Open(inpath)\n",
        "\n",
        "width = dset.RasterXSize\n",
        "height = dset.RasterYSize\n",
        "\n",
        "#tile size is kept as 3000 #you can specify tile size as per your requirement \n",
        "tilesize = 3000 \n",
        "\n",
        "print(dset)\n",
        "#Make sure you get an output similar to this-<osgeo.gdal.Dataset; proxy of <Swig Object of type 'GDALDatasetShadow *' at 0x7face44a18a0> >"
      ],
      "execution_count": null,
      "outputs": [
        {
          "output_type": "stream",
          "text": [
            "<osgeo.gdal.Dataset; proxy of <Swig Object of type 'GDALDatasetShadow *' at 0x7face44a18a0> >\n"
          ],
          "name": "stdout"
        }
      ]
    },
    {
      "cell_type": "code",
      "metadata": {
        "id": "YPpCNem2CuTY"
      },
      "source": [
        "#Splitting code and saving it in the outpath specified folder\n",
        "for i in range(0, width, tilesize):\n",
        "    for j in range(0, height, tilesize):\n",
        "        w = min(i+tilesize, width) - i\n",
        "        h = min(j+tilesize, height) - j\n",
        "        gdaltranString = \"gdal_translate -of GTIFF -srcwin \"+str(i)+\", \"+str(j)+\", \"+str(w)+\", \" \\\n",
        "            +str(h)+\" \" + str(inpath) + \" \" + str(outpath) + 'tile_'+ \"_\"+str(i)+\"_\"+str(j)+\".tif\"\n",
        "        os.system(gdaltranString)"
      ],
      "execution_count": null,
      "outputs": []
    }
  ]
}